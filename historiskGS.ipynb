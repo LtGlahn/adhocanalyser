{
 "cells": [
  {
   "cell_type": "markdown",
   "id": "7a232724",
   "metadata": {},
   "source": [
    "# Historisk gang- sykkelvegnett\n",
    "\n",
    "Utforsker metoder for å hente historisk G/S fra 2014 - dd\n",
    "\n",
    "Faller evt tilbake på å hente 532-objekter fra TNE? "
   ]
  },
  {
   "cell_type": "code",
   "execution_count": 2,
   "id": "a2e3239b",
   "metadata": {},
   "outputs": [
    {
     "name": "stdout",
     "output_type": "stream",
     "text": [
      "Legger NVDB api til søkestien\n"
     ]
    }
   ],
   "source": [
    "import pandas as pd\n",
    "import geopandas as gpd\n",
    "from shapely import wkt \n",
    "\n",
    "import STARTHER\n",
    "import nvdbapiv3\n",
    "import nvdbgeotricks "
   ]
  },
  {
   "cell_type": "markdown",
   "id": "e3da8962",
   "metadata": {},
   "source": [
    "# Henter historisk vegnett for trafikantgruppe G"
   ]
  },
  {
   "cell_type": "code",
   "execution_count": 3,
   "id": "be2ab0e9",
   "metadata": {},
   "outputs": [],
   "source": [
    "v = nvdbapiv3.nvdbVegnett()\n",
    "v.filter( {'trafikantgruppe' : 'G', 'historisk' : True })\n",
    "vegnett = pd.DataFrame( v.to_records())"
   ]
  },
  {
   "cell_type": "code",
   "execution_count": null,
   "id": "aa9a8fcc",
   "metadata": {},
   "outputs": [],
   "source": [
    "# Fyller inn dummy dato på dem som har åpen sluttdato\n",
    "vegnett['sluttdato'].fillna( '2050-12-31', inplace=True  )"
   ]
  },
  {
   "cell_type": "code",
   "execution_count": 2,
   "id": "4431625c",
   "metadata": {},
   "outputs": [
    {
     "ename": "NameError",
     "evalue": "name 'vegnett' is not defined",
     "output_type": "error",
     "traceback": [
      "\u001b[0;31m---------------------------------------------------------------------------\u001b[0m",
      "\u001b[0;31mNameError\u001b[0m                                 Traceback (most recent call last)",
      "Input \u001b[0;32mIn [2]\u001b[0m, in \u001b[0;36m<cell line: 1>\u001b[0;34m()\u001b[0m\n\u001b[0;32m----> 1\u001b[0m vegnett[\u001b[38;5;124m'\u001b[39m\u001b[38;5;124msluttdato\u001b[39m\u001b[38;5;124m'\u001b[39m] \u001b[38;5;241m=\u001b[39m pd\u001b[38;5;241m.\u001b[39mto_datetime( \u001b[43mvegnett\u001b[49m[\u001b[38;5;124m'\u001b[39m\u001b[38;5;124msluttdato\u001b[39m\u001b[38;5;124m'\u001b[39m] )\n\u001b[1;32m      2\u001b[0m vegnett[\u001b[38;5;124m'\u001b[39m\u001b[38;5;124mstartdato\u001b[39m\u001b[38;5;124m'\u001b[39m] \u001b[38;5;241m=\u001b[39m pd\u001b[38;5;241m.\u001b[39mto_datetime( vegnett[\u001b[38;5;124m'\u001b[39m\u001b[38;5;124mstartdato\u001b[39m\u001b[38;5;124m'\u001b[39m])\n\u001b[1;32m      4\u001b[0m vegnett[\u001b[38;5;124m'\u001b[39m\u001b[38;5;124mgeometry\u001b[39m\u001b[38;5;124m'\u001b[39m] \u001b[38;5;241m=\u001b[39m vegnett[\u001b[38;5;124m'\u001b[39m\u001b[38;5;124mgeometri\u001b[39m\u001b[38;5;124m'\u001b[39m]\u001b[38;5;241m.\u001b[39mapply( wkt\u001b[38;5;241m.\u001b[39mloads )\n",
      "\u001b[0;31mNameError\u001b[0m: name 'vegnett' is not defined"
     ]
    }
   ],
   "source": [
    "vegnett['sluttdato'] = pd.to_datetime( vegnett['sluttdato'] )\n",
    "vegnett['startdato'] = pd.to_datetime( vegnett['startdato'])\n",
    "\n",
    "vegnett['geometry'] = vegnett['geometri'].apply( wkt.loads )\n",
    "vegnett = gpd.GeoDataFrame( vegnett, geometry='geometry', crs=5973)\n",
    "vegnett.drop( columns='geometri', inplace=True )\n"
   ]
  },
  {
   "cell_type": "markdown",
   "id": "05683eee",
   "metadata": {},
   "source": [
    "# Henter ALT historisk vegnett, plukker ut G/S derfra\n",
    "\n",
    "Blir cirka 10 millioner objekt, tar om lag 3-4 timer å hente. "
   ]
  },
  {
   "cell_type": "code",
   "execution_count": 26,
   "id": "3b4aba17",
   "metadata": {},
   "outputs": [],
   "source": [
    "v = nvdbapiv3.nvdbVegnett()\n",
    "v.filter( { 'historisk' : True })\n",
    "vegnett = pd.DataFrame( v.to_records())"
   ]
  },
  {
   "cell_type": "code",
   "execution_count": 28,
   "id": "00766e65",
   "metadata": {},
   "outputs": [],
   "source": [
    "# Fyller inn dummy dato på dem som har åpen sluttdato\n",
    "vegnett['sluttdato'].fillna( '2050-12-31', inplace=True  )"
   ]
  },
  {
   "cell_type": "code",
   "execution_count": 29,
   "id": "2ed0f6e5",
   "metadata": {},
   "outputs": [],
   "source": [
    "vegnett['sluttdato'] = pd.to_datetime( vegnett['sluttdato'] )\n",
    "vegnett['startdato'] = pd.to_datetime( vegnett['startdato'])\n"
   ]
  },
  {
   "cell_type": "code",
   "execution_count": 30,
   "id": "56565b3b",
   "metadata": {},
   "outputs": [],
   "source": [
    "# nyeste = vegnett[ vegnett['sluttdato'] > '2013-12-31']"
   ]
  },
  {
   "cell_type": "code",
   "execution_count": 31,
   "id": "1ac9f7f9",
   "metadata": {},
   "outputs": [
    {
     "data": {
      "text/plain": [
       "NaN    4575066\n",
       "K      3481646\n",
       "G       445757\n",
       "Name: trafikantgruppe, dtype: int64"
      ]
     },
     "execution_count": 31,
     "metadata": {},
     "output_type": "execute_result"
    }
   ],
   "source": [
    "# nyeste['trafikantgruppe'].value_counts( dropna=False)"
   ]
  },
  {
   "cell_type": "code",
   "execution_count": 27,
   "id": "a4331b4b",
   "metadata": {},
   "outputs": [
    {
     "data": {
      "text/plain": [
       "NaN    6131813\n",
       "K      3481646\n",
       "G       445757\n",
       "Name: trafikantgruppe, dtype: int64"
      ]
     },
     "execution_count": 27,
     "metadata": {},
     "output_type": "execute_result"
    }
   ],
   "source": [
    "# vegnett['trafikantgruppe'].value_counts( dropna=False )"
   ]
  },
  {
   "cell_type": "code",
   "execution_count": 138,
   "id": "acec081e",
   "metadata": {},
   "outputs": [
    {
     "data": {
      "text/plain": [
       "Vegtrase og kjørebane    8901304\n",
       "Kjørebane                 714732\n",
       "Vegtrase                  381409\n",
       "Kjørefelt                  61771\n",
       "Name: detaljnivå, dtype: int64"
      ]
     },
     "execution_count": 138,
     "metadata": {},
     "output_type": "execute_result"
    }
   ],
   "source": [
    "# vegnett['detaljnivå'].value_counts( dropna=False)"
   ]
  },
  {
   "cell_type": "code",
   "execution_count": 4,
   "id": "0d63b0ed",
   "metadata": {},
   "outputs": [],
   "source": [
    "# vegnett['type'].value_counts( dropna=False)"
   ]
  },
  {
   "cell_type": "code",
   "execution_count": 146,
   "id": "6972f55b",
   "metadata": {},
   "outputs": [
    {
     "data": {
      "text/plain": [
       "NaN    5510470\n",
       "K      3056198\n",
       "G       321244\n",
       "Name: trafikantgruppe, dtype: int64"
      ]
     },
     "execution_count": 146,
     "metadata": {},
     "output_type": "execute_result"
    }
   ],
   "source": [
    "# vn2 = vegnett[ vegnett['type'] == 'HOVED'].copy()\n",
    "# vn2['trafikantgruppe'].value_counts( dropna=False)"
   ]
  },
  {
   "cell_type": "code",
   "execution_count": 142,
   "id": "737f010b",
   "metadata": {},
   "outputs": [
    {
     "data": {
      "text/plain": [
       "NaN    4824620\n",
       "K      3056198\n",
       "G       321244\n",
       "Name: trafikantgruppe, dtype: int64"
      ]
     },
     "execution_count": 142,
     "metadata": {},
     "output_type": "execute_result"
    }
   ],
   "source": [
    "# vn3 = vn2[ vn2['sluttdato'] > '2009-12-31']\n",
    "# vn3['trafikantgruppe'].value_counts( dropna=False )"
   ]
  },
  {
   "cell_type": "markdown",
   "id": "168ed401",
   "metadata": {},
   "source": [
    "Vi har veldig mangelfulle data på trafikantgruppe for gammalt vegnett, ergo er jeg skeptisk  denne analysen ubrukelig for oss. Viderefører analysen for å kunne sammenligne med 532-objekt. "
   ]
  },
  {
   "cell_type": "code",
   "execution_count": 151,
   "id": "d5167df6",
   "metadata": {},
   "outputs": [
    {
     "data": {
      "text/plain": [
       "Index(['href', 'veglenkesekvensid', 'startposisjon', 'sluttposisjon',\n",
       "       'kortform', 'veglenkenummer', 'segmentnummer', 'startnode', 'sluttnode',\n",
       "       'referanse', 'type', 'detaljnivå', 'typeVeg', 'typeVeg_sosi',\n",
       "       'målemetode', 'feltoversikt', 'geometri', 'lengde', 'fylke', 'kommune',\n",
       "       'vegsystemreferanse', 'startdato', 'sluttdato', 'vref', 'vegkategori',\n",
       "       'fase', 'nummer', 'gate', 'strekning', 'delstrekning', 'fra_meter',\n",
       "       'til_meter', 'trafikantgruppe', 'adskilte_lop', 'medium', 'måledato',\n",
       "       'ankerpunktmeter', 'sideanleggsdel', 'kryssdel', 'topologinivå',\n",
       "       'superstedfesting', 'geometry'],\n",
       "      dtype='object')"
      ]
     },
     "execution_count": 151,
     "metadata": {},
     "output_type": "execute_result"
    }
   ],
   "source": [
    "# vn2.columns"
   ]
  },
  {
   "cell_type": "code",
   "execution_count": 152,
   "id": "480cda8f",
   "metadata": {},
   "outputs": [],
   "source": [
    "vn2['geometry'] = vn2['geometri'].apply( wkt.loads )\n",
    "vn2 = gpd.GeoDataFrame( vn2, geometry='geometry', crs=5973  )\n",
    "vn2.drop( columns=['geometri', 'href','veglenkenummer', 'segmentnummer', 'startnode', 'sluttnode', \n",
    "                  'referanse', 'typeVeg_sosi', 'vegsystemreferanse', 'gate' ], inplace=True )"
   ]
  },
  {
   "cell_type": "code",
   "execution_count": 5,
   "id": "7e06af52",
   "metadata": {},
   "outputs": [],
   "source": [
    "lengder2 = [ ]\n",
    "for year in range( 2012, 2022): \n",
    "    \n",
    "    sub = vn2[ (vn2['startdato'] <= str(year)+'-12-31') & (vn2['sluttdato'] > str(year)+'-12-31' ) ]\n",
    "    sub.to_file( 'historiskGS_fravegnett.gpkg', layer='gsvegnett'+str(year)+'-12-31', driver='GPKG')\n",
    "    print( f\"{year} : {len(sub)} vegsegmenter\" )\n",
    "    rapport = sub.groupby( ['Vegkategori']).agg( {'strekningslengde' : 'sum'}).reset_index()\n",
    "    data = { 'År' : year }\n",
    "    for ix, row in rapport.iterrows():\n",
    "        data[row['Vegkategori']] = row['strekningslengde'] / 1000\n",
    "    \n",
    "    lengder2.append( data )"
   ]
  },
  {
   "cell_type": "markdown",
   "id": "6f42775f",
   "metadata": {},
   "source": [
    "#  Henter historisk 532-objekt"
   ]
  },
  {
   "cell_type": "code",
   "execution_count": 11,
   "id": "7734c12b",
   "metadata": {},
   "outputs": [],
   "source": [
    "sok = nvdbapiv3.nvdbFagdata( 532)\n",
    "# Vegstatus = G (Gang/sykkelveg) eller U (Midlertidig status gang-/sykkelveg)\n",
    "# sok.filter( {'alle_versjoner' : True, 'egenskap' : '(4567=12983 OR 4567=12159)' })\n",
    "sok.filter( { 'egenskap' : '(4567=12983 OR 4567=12159)', 'tidspunkt' : '2022-12-31'})\n"
   ]
  },
  {
   "cell_type": "code",
   "execution_count": 12,
   "id": "00c4fb6d",
   "metadata": {},
   "outputs": [
    {
     "name": "stdout",
     "output_type": "stream",
     "text": [
      "Eksport av 111055 objekter kommer til å ta tid...\n",
      "Objekt 1000 av 111055\n",
      "Objekt 5000 av 111055\n",
      "Objekt 10000 av 111055\n",
      "Objekt 20000 av 111055\n",
      "Objekt 30000 av 111055\n",
      "Objekt 40000 av 111055\n",
      "Objekt 50000 av 111055\n",
      "Objekt 60000 av 111055\n",
      "Objekt 70000 av 111055\n",
      "Objekt 80000 av 111055\n",
      "Objekt 90000 av 111055\n",
      "Objekt 100000 av 111055\n",
      "Objekt 110000 av 111055\n"
     ]
    }
   ],
   "source": [
    "vegref = pd.DataFrame( sok.to_records( vegsegmenter=True ) )"
   ]
  },
  {
   "cell_type": "code",
   "execution_count": 21,
   "id": "7912faec",
   "metadata": {},
   "outputs": [
    {
     "data": {
      "text/plain": [
       "objekttype                                                           532\n",
       "nvdbId                                                             70569\n",
       "versjon                                                                1\n",
       "startdato                                                     1950-01-01\n",
       "Brkode1                                               Start hovedparsell\n",
       "Brkode2                                              Slutt veg/delstrekn\n",
       "Envegsregulering                                                        \n",
       "Fylkesnummer                                                           9\n",
       "Kommunenummer                                                         38\n",
       "Vegkategori                                                   Privat veg\n",
       "Vegstatus                                                Gang-/sykkelveg\n",
       "Vegnummer                                                          99848\n",
       "Hovedparsell                                                           1\n",
       "VegstatusOver                                            Gang-/sykkelveg\n",
       "FraMeter                                                               0\n",
       "TilMeter                                                              73\n",
       "Fellesvegkode                                                           \n",
       "Vegtype                                                                 \n",
       "Konnekteringslenke                                                      \n",
       "vegsystemreferanser                                   PV99848 S1D1 m0-73\n",
       "stedfestinger                                              0.0-1.0@17980\n",
       "vegsegmenter           [{'veglenkesekvensid': 17980, 'startposisjon':...\n",
       "geometri               LINESTRING Z(84781.6 6542965.6 224.024, 84772 ...\n",
       "strekningslengde                                                  73.196\n",
       "Måledato                                                             NaN\n",
       "geometry               LINESTRING Z (84781.6 6542965.6 224.024, 84772...\n",
       "Name: 0, dtype: object"
      ]
     },
     "execution_count": 21,
     "metadata": {},
     "output_type": "execute_result"
    }
   ],
   "source": [
    "vegref.iloc[0]"
   ]
  },
  {
   "cell_type": "code",
   "execution_count": 23,
   "id": "18b1352f",
   "metadata": {},
   "outputs": [
    {
     "data": {
      "text/plain": [
       "73.15471155293426"
      ]
     },
     "execution_count": 23,
     "metadata": {},
     "output_type": "execute_result"
    }
   ],
   "source": [
    "vegref.iloc[0]['geometry'].length"
   ]
  },
  {
   "cell_type": "code",
   "execution_count": 22,
   "id": "41079d07",
   "metadata": {},
   "outputs": [
    {
     "data": {
      "text/plain": [
       "[{'veglenkesekvensid': 17980,\n",
       "  'startposisjon': 0.0,\n",
       "  'sluttposisjon': 1.0,\n",
       "  'lengde': 73.196,\n",
       "  'retning': 'MED',\n",
       "  'veglenkeType': 'HOVED',\n",
       "  'detaljnivå': 'Vegtrase og kjørebane',\n",
       "  'typeVeg': 'Gang- og sykkelveg',\n",
       "  'typeVeg_sosi': 'gangOgSykkelveg',\n",
       "  'startdato': '2020-12-10',\n",
       "  'geometri': {'wkt': 'LINESTRING Z(84781.6 6542965.6 224.024, 84772 6542944.9 224.224, 84759.6 6542920.2 225.424, 84748.5 6542900.4 226.224)',\n",
       "   'srid': 5973},\n",
       "  'kommune': 4220,\n",
       "  'fylke': 42,\n",
       "  'vegsystemreferanse': {'vegsystem': {'id': 1012071814,\n",
       "    'versjon': 1,\n",
       "    'vegkategori': 'P',\n",
       "    'fase': 'V',\n",
       "    'nummer': 99848},\n",
       "   'strekning': {'id': -1,\n",
       "    'versjon': -1,\n",
       "    'strekning': 1,\n",
       "    'delstrekning': 1,\n",
       "    'arm': False,\n",
       "    'adskilte_løp': 'Nei',\n",
       "    'trafikantgruppe': 'G',\n",
       "    'fra_meter': 0.0,\n",
       "    'til_meter': 73.196,\n",
       "    'retning': 'MED'},\n",
       "   'kortform': 'PV99848 S1D1 m0-73'}}]"
      ]
     },
     "execution_count": 22,
     "metadata": {},
     "output_type": "execute_result"
    }
   ],
   "source": [
    "vegref.iloc[0]['vegsegmenter']"
   ]
  },
  {
   "cell_type": "code",
   "execution_count": 39,
   "id": "7541e6c2",
   "metadata": {},
   "outputs": [],
   "source": [
    "vegref['sluttdato'].fillna( '2050-12-31', inplace=True )\n",
    "vegref['startdato'] = pd.to_datetime( vegref['startdato'] )\n",
    "vegref['sluttdato'] = pd.to_datetime( vegref['sluttdato'] )"
   ]
  },
  {
   "cell_type": "code",
   "execution_count": 19,
   "id": "dfa5b63f",
   "metadata": {},
   "outputs": [],
   "source": [
    "vegref['geometry'] = vegref['geometri'].apply( wkt.loads )"
   ]
  },
  {
   "cell_type": "code",
   "execution_count": 65,
   "id": "c9a4f747",
   "metadata": {},
   "outputs": [],
   "source": [
    "vegref.drop( columns='vegsegmenter', inplace=True)"
   ]
  },
  {
   "cell_type": "code",
   "execution_count": 20,
   "id": "fe24b356",
   "metadata": {},
   "outputs": [],
   "source": [
    "vegref = gpd.GeoDataFrame( vegref, geometry='geometry', crs=5973 )"
   ]
  },
  {
   "cell_type": "markdown",
   "id": "f378d305",
   "metadata": {},
   "source": [
    "# Filtrerer vekk konnekteringslenker og fiktiv veg"
   ]
  },
  {
   "cell_type": "code",
   "execution_count": 82,
   "id": "ab4133b8",
   "metadata": {},
   "outputs": [
    {
     "name": "stdout",
     "output_type": "stream",
     "text": [
      "220589 objekter med lengde 24222460.509999998\n"
     ]
    }
   ],
   "source": [
    "print( f\"{len( vegref)} objekter med lengde {vegref['strekningslengde'].sum()}\")"
   ]
  },
  {
   "cell_type": "code",
   "execution_count": 84,
   "id": "d229e50e",
   "metadata": {},
   "outputs": [],
   "source": [
    "vegref = vegref[ vegref['Vegtype'] != 'Fiktiv']\n",
    "vegref = vegref[ vegref['Konnekteringslenke'] != 'Konnekteringslenke' ]"
   ]
  },
  {
   "cell_type": "code",
   "execution_count": 85,
   "id": "9b816e92",
   "metadata": {},
   "outputs": [
    {
     "name": "stdout",
     "output_type": "stream",
     "text": [
      "167869 objekter med lengde 23368596.019\n"
     ]
    }
   ],
   "source": [
    "print( f\"{len( vegref)} objekter med lengde {vegref['strekningslengde'].sum()}\")"
   ]
  },
  {
   "cell_type": "markdown",
   "id": "f4cf8deb",
   "metadata": {},
   "source": [
    "# Oh, lord, don't go there!\n",
    "\n",
    "Vi hopper over bekymringen over at geometrilengden avviker på veldig ... interessante måter, og slår oss til ro med at det meste av dataene ser ut til å ha god integritet (geometrilengden sånn cirka like stor som strekningslengde-egenskapen). "
   ]
  },
  {
   "cell_type": "code",
   "execution_count": 13,
   "id": "ca71723b",
   "metadata": {},
   "outputs": [],
   "source": [
    "# vegref['geomlengde'] = vegref['geometry'].length\n",
    "\n",
    "# vegref['lengdediff'] = vegref['strekningslengde'] - vegref['geometry'].length\n",
    "\n",
    "# vegref['abs_lengdediff'] = abs( vegref['lengdediff'])\n",
    "\n",
    "# vegref['abs_lengdediff'].describe()"
   ]
  },
  {
   "cell_type": "code",
   "execution_count": 14,
   "id": "a9f3e202",
   "metadata": {},
   "outputs": [],
   "source": [
    "# vegref[ vegref['lengdediff'] < -5]"
   ]
  },
  {
   "cell_type": "code",
   "execution_count": 15,
   "id": "8359e281",
   "metadata": {},
   "outputs": [],
   "source": [
    "# vegref['abs_lengdediff'].quantile( q=[.75, .8, .85, .9, .95, .99, .999])"
   ]
  },
  {
   "cell_type": "markdown",
   "id": "3f2d4311",
   "metadata": {},
   "source": [
    "# Back to our regular program"
   ]
  },
  {
   "cell_type": "code",
   "execution_count": 59,
   "id": "ec94f148",
   "metadata": {},
   "outputs": [
    {
     "data": {
      "text/plain": [
       "Index(['objekttype', 'nvdbId', 'versjon', 'startdato', 'sluttdato', 'Brkode1',\n",
       "       'Brkode2', 'Envegsregulering', 'Fylkesnummer', 'Kommunenummer',\n",
       "       'Vegkategori', 'Vegstatus', 'Vegnummer', 'Hovedparsell',\n",
       "       'VegstatusOver', 'FraMeter', 'TilMeter', 'Fellesvegkode', 'Vegtype',\n",
       "       'Konnekteringslenke', 'vegsystemreferanser', 'stedfestinger',\n",
       "       'vegsegmenter', 'geometri', 'strekningslengde', 'Måledato', 'geometry',\n",
       "       'geomlengde', 'lengdediff', 'abs_lengdediff'],\n",
       "      dtype='object')"
      ]
     },
     "execution_count": 59,
     "metadata": {},
     "output_type": "execute_result"
    }
   ],
   "source": [
    "vegref.columns"
   ]
  },
  {
   "cell_type": "code",
   "execution_count": 121,
   "id": "509de027",
   "metadata": {},
   "outputs": [
    {
     "name": "stdout",
     "output_type": "stream",
     "text": [
      "2012 : 53180 vegsegmenter\n",
      "2013 : 59996 vegsegmenter\n",
      "2014 : 67450 vegsegmenter\n",
      "2015 : 72749 vegsegmenter\n",
      "2016 : 74382 vegsegmenter\n",
      "2017 : 76158 vegsegmenter\n",
      "2018 : 80456 vegsegmenter\n",
      "2019 : 82148 vegsegmenter\n",
      "2020 : 85408 vegsegmenter\n",
      "2021 : 87669 vegsegmenter\n"
     ]
    }
   ],
   "source": [
    "lengder = [ ]\n",
    "for year in range( 2012, 2022): \n",
    "    \n",
    "    sub = vegref[ (vegref['startdato'] <= str(year)+'-12-31') & (vegref['sluttdato'] > str(year)+'-12-31' ) ]\n",
    "    sub.to_file( 'historisk532gsTEST.gpkg', layer='gs'+str(year)+'-12-31', driver='GPKG')\n",
    "    print( f\"{year} : {len(sub)} vegsegmenter\" )\n",
    "    rapport = sub.groupby( ['Vegkategori']).agg( {'strekningslengde' : 'sum'}).reset_index()\n",
    "    data = { 'År' : year }\n",
    "    for ix, row in rapport.iterrows():\n",
    "        data[row['Vegkategori']] = row['strekningslengde'] / 1000\n",
    "    \n",
    "    lengder.append( data )\n",
    "    "
   ]
  },
  {
   "cell_type": "code",
   "execution_count": 128,
   "id": "036ca9d1",
   "metadata": {},
   "outputs": [],
   "source": [
    "lengderdf['Riksveger (E+R)'] = lengderdf['Europaveg'] + lengderdf['Riksveg']"
   ]
  },
  {
   "cell_type": "code",
   "execution_count": 133,
   "id": "3be8fa0a",
   "metadata": {},
   "outputs": [
    {
     "data": {
      "text/plain": [
       "<AxesSubplot:title={'center':'G/S riksvegger (E+R)'}, xlabel='År', ylabel='Km Gang/sykkelveg'>"
      ]
     },
     "execution_count": 133,
     "metadata": {},
     "output_type": "execute_result"
    },
    {
     "data": {
      "image/png": "[encoded data removed]",
      "text/plain": [
       "<Figure size 432x288 with 1 Axes>"
      ]
     },
     "metadata": {
      "needs_background": "light"
     },
     "output_type": "display_data"
    }
   ],
   "source": [
    "lengderdf['Riksveger (E+R)'].plot( kind='bar', ylabel='Km Gang/sykkelveg', title='G/S riksvegger (E+R)')"
   ]
  },
  {
   "cell_type": "code",
   "execution_count": 134,
   "id": "2a0fa18d",
   "metadata": {},
   "outputs": [
    {
     "data": {
      "text/plain": [
       "<AxesSubplot:title={'center':'G/S fylkesveger'}, xlabel='År', ylabel='Km Gang/sykkelveg'>"
      ]
     },
     "execution_count": 134,
     "metadata": {},
     "output_type": "execute_result"
    },
    {
     "data": {
      "image/png": "[encoded data removed]",
      "text/plain": [
       "<Figure size 432x288 with 1 Axes>"
      ]
     },
     "metadata": {
      "needs_background": "light"
     },
     "output_type": "display_data"
    }
   ],
   "source": [
    "lengderdf['Fylkesveg'].plot( kind='bar', ylabel='Km Gang/sykkelveg', title='G/S fylkesveger')"
   ]
  },
  {
   "cell_type": "code",
   "execution_count": 135,
   "id": "828d807a",
   "metadata": {},
   "outputs": [
    {
     "data": {
      "text/plain": [
       "<AxesSubplot:title={'center':'G/s alle kommunalveger (K+S)'}, xlabel='År', ylabel='Km Gang/sykkelveg'>"
      ]
     },
     "execution_count": 135,
     "metadata": {},
     "output_type": "execute_result"
    },
    {
     "data": {
      "image/png": "[encoded data removed]",
      "text/plain": [
       "<Figure size 432x288 with 1 Axes>"
      ]
     },
     "metadata": {
      "needs_background": "light"
     },
     "output_type": "display_data"
    }
   ],
   "source": [
    "lengderdf['Alle kommunalveger (K+P)'] = lengderdf['Kommunal veg'] + lengderdf['Privat veg']\n",
    "lengderdf['Alle kommunalveger (K+P)'].plot( kind='bar', ylabel='Km Gang/sykkelveg', title='G/s alle kommunalveger (K+S)')"
   ]
  },
  {
   "cell_type": "code",
   "execution_count": 136,
   "id": "9bbc956d",
   "metadata": {},
   "outputs": [
    {
     "data": {
      "text/plain": [
       "<AxesSubplot:title={'center':'G/S vegkategori K'}, xlabel='År', ylabel='Km Gang/sykkelveg'>"
      ]
     },
     "execution_count": 136,
     "metadata": {},
     "output_type": "execute_result"
    },
    {
     "data": {
      "image/png": "[encoded data removed]",
      "text/plain": [
       "<Figure size 432x288 with 1 Axes>"
      ]
     },
     "metadata": {
      "needs_background": "light"
     },
     "output_type": "display_data"
    }
   ],
   "source": [
    "lengderdf['Kommunal veg'].plot( kind='bar', ylabel='Km Gang/sykkelveg', title='G/S vegkategori K')"
   ]
  },
  {
   "cell_type": "code",
   "execution_count": 143,
   "id": "57af6767",
   "metadata": {},
   "outputs": [
    {
     "name": "stdout",
     "output_type": "stream",
     "text": [
      "skrev 1 faner til Lenger gang sykkelveg.xlsx \n"
     ]
    }
   ],
   "source": [
    "nvdbgeotricks.skrivexcel( 'Lenger gang sykkelveg.xlsx', lengderdf)"
   ]
  },
  {
   "cell_type": "code",
   "execution_count": 145,
   "id": "68447a36",
   "metadata": {},
   "outputs": [
    {
     "data": {
      "text/html": [
       "<div>\n",
       "<style scoped>\n",
       "    .dataframe tbody tr th:only-of-type {\n",
       "        vertical-align: middle;\n",
       "    }\n",
       "\n",
       "    .dataframe tbody tr th {\n",
       "        vertical-align: top;\n",
       "    }\n",
       "\n",
       "    .dataframe thead th {\n",
       "        text-align: right;\n",
       "    }\n",
       "</style>\n",
       "<table border=\"1\" class=\"dataframe\">\n",
       "  <thead>\n",
       "    <tr style=\"text-align: right;\">\n",
       "      <th></th>\n",
       "      <th>År</th>\n",
       "      <th>Europaveg</th>\n",
       "      <th>Fylkesveg</th>\n",
       "      <th>Kommunal veg</th>\n",
       "      <th>Privat veg</th>\n",
       "      <th>Riksveg</th>\n",
       "      <th>Riksveger (E+R)</th>\n",
       "      <th>Alle kommunalveger (K+P)</th>\n",
       "    </tr>\n",
       "    <tr>\n",
       "      <th>År</th>\n",
       "      <th></th>\n",
       "      <th></th>\n",
       "      <th></th>\n",
       "      <th></th>\n",
       "      <th></th>\n",
       "      <th></th>\n",
       "      <th></th>\n",
       "      <th></th>\n",
       "    </tr>\n",
       "  </thead>\n",
       "  <tbody>\n",
       "    <tr>\n",
       "      <th>2012</th>\n",
       "      <td>2012</td>\n",
       "      <td>700.996070</td>\n",
       "      <td>2162.200744</td>\n",
       "      <td>2979.827199</td>\n",
       "      <td>1122.438518</td>\n",
       "      <td>633.288068</td>\n",
       "      <td>1334.284138</td>\n",
       "      <td>4102.265717</td>\n",
       "    </tr>\n",
       "    <tr>\n",
       "      <th>2013</th>\n",
       "      <td>2013</td>\n",
       "      <td>740.671558</td>\n",
       "      <td>2196.167775</td>\n",
       "      <td>3290.522843</td>\n",
       "      <td>1207.889164</td>\n",
       "      <td>654.967081</td>\n",
       "      <td>1395.638639</td>\n",
       "      <td>4498.412007</td>\n",
       "    </tr>\n",
       "    <tr>\n",
       "      <th>2014</th>\n",
       "      <td>2014</td>\n",
       "      <td>776.187929</td>\n",
       "      <td>2259.136048</td>\n",
       "      <td>3709.472226</td>\n",
       "      <td>1346.322481</td>\n",
       "      <td>668.573280</td>\n",
       "      <td>1444.761209</td>\n",
       "      <td>5055.794707</td>\n",
       "    </tr>\n",
       "    <tr>\n",
       "      <th>2015</th>\n",
       "      <td>2015</td>\n",
       "      <td>787.345602</td>\n",
       "      <td>2367.055373</td>\n",
       "      <td>4098.773147</td>\n",
       "      <td>1431.112817</td>\n",
       "      <td>676.551202</td>\n",
       "      <td>1463.896804</td>\n",
       "      <td>5529.885964</td>\n",
       "    </tr>\n",
       "    <tr>\n",
       "      <th>2016</th>\n",
       "      <td>2016</td>\n",
       "      <td>813.701081</td>\n",
       "      <td>2572.342169</td>\n",
       "      <td>4141.414086</td>\n",
       "      <td>1398.327270</td>\n",
       "      <td>665.984080</td>\n",
       "      <td>1479.685161</td>\n",
       "      <td>5539.741356</td>\n",
       "    </tr>\n",
       "    <tr>\n",
       "      <th>2017</th>\n",
       "      <td>2017</td>\n",
       "      <td>821.588314</td>\n",
       "      <td>2647.420077</td>\n",
       "      <td>4273.762761</td>\n",
       "      <td>1438.919648</td>\n",
       "      <td>679.666230</td>\n",
       "      <td>1501.254544</td>\n",
       "      <td>5712.682409</td>\n",
       "    </tr>\n",
       "    <tr>\n",
       "      <th>2018</th>\n",
       "      <td>2018</td>\n",
       "      <td>851.670678</td>\n",
       "      <td>2740.784807</td>\n",
       "      <td>4366.729417</td>\n",
       "      <td>1624.089008</td>\n",
       "      <td>677.156091</td>\n",
       "      <td>1528.826769</td>\n",
       "      <td>5990.818425</td>\n",
       "    </tr>\n",
       "    <tr>\n",
       "      <th>2019</th>\n",
       "      <td>2019</td>\n",
       "      <td>855.001755</td>\n",
       "      <td>2799.435690</td>\n",
       "      <td>4526.018380</td>\n",
       "      <td>1728.361325</td>\n",
       "      <td>681.402590</td>\n",
       "      <td>1536.404345</td>\n",
       "      <td>6254.379705</td>\n",
       "    </tr>\n",
       "    <tr>\n",
       "      <th>2020</th>\n",
       "      <td>2020</td>\n",
       "      <td>854.813975</td>\n",
       "      <td>2947.932876</td>\n",
       "      <td>4631.690347</td>\n",
       "      <td>1848.511017</td>\n",
       "      <td>674.216435</td>\n",
       "      <td>1529.030410</td>\n",
       "      <td>6480.201364</td>\n",
       "    </tr>\n",
       "    <tr>\n",
       "      <th>2021</th>\n",
       "      <td>2021</td>\n",
       "      <td>866.116370</td>\n",
       "      <td>3110.019029</td>\n",
       "      <td>4599.260192</td>\n",
       "      <td>1956.686964</td>\n",
       "      <td>672.345140</td>\n",
       "      <td>1538.461510</td>\n",
       "      <td>6555.947156</td>\n",
       "    </tr>\n",
       "  </tbody>\n",
       "</table>\n",
       "</div>"
      ],
      "text/plain": [
       "        År   Europaveg    Fylkesveg  Kommunal veg   Privat veg     Riksveg  \\\n",
       "År                                                                           \n",
       "2012  2012  700.996070  2162.200744   2979.827199  1122.438518  633.288068   \n",
       "2013  2013  740.671558  2196.167775   3290.522843  1207.889164  654.967081   \n",
       "2014  2014  776.187929  2259.136048   3709.472226  1346.322481  668.573280   \n",
       "2015  2015  787.345602  2367.055373   4098.773147  1431.112817  676.551202   \n",
       "2016  2016  813.701081  2572.342169   4141.414086  1398.327270  665.984080   \n",
       "2017  2017  821.588314  2647.420077   4273.762761  1438.919648  679.666230   \n",
       "2018  2018  851.670678  2740.784807   4366.729417  1624.089008  677.156091   \n",
       "2019  2019  855.001755  2799.435690   4526.018380  1728.361325  681.402590   \n",
       "2020  2020  854.813975  2947.932876   4631.690347  1848.511017  674.216435   \n",
       "2021  2021  866.116370  3110.019029   4599.260192  1956.686964  672.345140   \n",
       "\n",
       "      Riksveger (E+R)  Alle kommunalveger (K+P)  \n",
       "År                                               \n",
       "2012      1334.284138               4102.265717  \n",
       "2013      1395.638639               4498.412007  \n",
       "2014      1444.761209               5055.794707  \n",
       "2015      1463.896804               5529.885964  \n",
       "2016      1479.685161               5539.741356  \n",
       "2017      1501.254544               5712.682409  \n",
       "2018      1528.826769               5990.818425  \n",
       "2019      1536.404345               6254.379705  \n",
       "2020      1529.030410               6480.201364  \n",
       "2021      1538.461510               6555.947156  "
      ]
     },
     "execution_count": 145,
     "metadata": {},
     "output_type": "execute_result"
    }
   ],
   "source": [
    "lengderdf"
   ]
  }
 ],
 "metadata": {
  "kernelspec": {
   "display_name": "Python [conda env:kulegeotingAug2022] *",
   "language": "python",
   "name": "conda-env-kulegeotingAug2022-py"
  },
  "language_info": {
   "codemirror_mode": {
    "name": "ipython",
    "version": 3
   },
   "file_extension": ".py",
   "mimetype": "text/x-python",
   "name": "python",
   "nbconvert_exporter": "python",
   "pygments_lexer": "ipython3",
   "version": "3.10.5"
  }
 },
 "nbformat": 4,
 "nbformat_minor": 5
}
