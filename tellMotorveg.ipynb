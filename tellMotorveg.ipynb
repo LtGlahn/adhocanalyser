{
 "cells": [
  {
   "cell_type": "markdown",
   "metadata": {},
   "source": [
    "# Tellmotorveg og motortrafikkveg \n",
    "\n",
    "Teller lengde på motorveg og motortrafikkveg - og \"vanlig veg\"\n",
    "\n",
    "Bruker KOSTRA regler og segmentering av vegnett + vegobjekt 595 Motorveg\n"
   ]
  },
  {
   "cell_type": "code",
   "execution_count": 21,
   "metadata": {},
   "outputs": [],
   "source": [
    "import pandas as pd\n",
    "import geopandas as gpd\n",
    "from shapely import wkt \n",
    "\n",
    "import STARTHER\n",
    "import nvdbapiv3 \n",
    "import nvdbgeotricks \n",
    "import segmentering"
   ]
  },
  {
   "cell_type": "code",
   "execution_count": 2,
   "metadata": {},
   "outputs": [],
   "source": [
    "vegnettfilter = { 'trafikantgruppe' : 'K', \n",
    "                     'vegsystemreferanse' : 'Ev,Rv,Fv,Kv', \n",
    "                     'adskiltelop' : 'med,nei',\n",
    "                     'veglenketype' : 'hoved',\n",
    "                     'sideanlegg' : False }\n"
   ]
  },
  {
   "cell_type": "code",
   "execution_count": 3,
   "metadata": {},
   "outputs": [
    {
     "name": "stdout",
     "output_type": "stream",
     "text": [
      "Eksport av 811647 vegsegmenter kommer til å ta tid...\n",
      "Vegsegment 1000 av 811647\n",
      "Vegsegment 5000 av 811647\n",
      "Vegsegment 10000 av 811647\n",
      "Vegsegment 20000 av 811647\n",
      "Vegsegment 30000 av 811647\n",
      "Vegsegment 40000 av 811647\n",
      "Vegsegment 50000 av 811647\n",
      "Vegsegment 60000 av 811647\n",
      "Vegsegment 70000 av 811647\n",
      "Vegsegment 80000 av 811647\n",
      "Vegsegment 90000 av 811647\n",
      "Vegsegment 100000 av 811647\n",
      "Vegsegment 110000 av 811647\n",
      "Vegsegment 120000 av 811647\n",
      "Vegsegment 130000 av 811647\n",
      "Vegsegment 140000 av 811647\n",
      "Vegsegment 150000 av 811647\n",
      "Vegsegment 160000 av 811647\n",
      "Vegsegment 170000 av 811647\n",
      "Vegsegment 180000 av 811647\n",
      "Vegsegment 190000 av 811647\n",
      "Vegsegment 200000 av 811647\n",
      "Vegsegment 210000 av 811647\n",
      "Vegsegment 220000 av 811647\n",
      "Vegsegment 230000 av 811647\n",
      "Vegsegment 240000 av 811647\n",
      "Vegsegment 250000 av 811647\n",
      "Vegsegment 260000 av 811647\n",
      "Vegsegment 270000 av 811647\n",
      "Vegsegment 280000 av 811647\n",
      "Vegsegment 290000 av 811647\n",
      "Vegsegment 300000 av 811647\n",
      "Vegsegment 310000 av 811647\n",
      "Vegsegment 320000 av 811647\n",
      "Vegsegment 330000 av 811647\n",
      "Vegsegment 340000 av 811647\n",
      "Vegsegment 350000 av 811647\n",
      "Vegsegment 360000 av 811647\n",
      "Vegsegment 370000 av 811647\n",
      "Vegsegment 380000 av 811647\n",
      "Vegsegment 390000 av 811647\n",
      "Vegsegment 400000 av 811647\n",
      "Vegsegment 410000 av 811647\n",
      "Vegsegment 420000 av 811647\n",
      "Vegsegment 430000 av 811647\n",
      "Vegsegment 440000 av 811647\n",
      "Vegsegment 450000 av 811647\n",
      "Vegsegment 460000 av 811647\n",
      "Vegsegment 470000 av 811647\n",
      "Vegsegment 480000 av 811647\n",
      "Vegsegment 490000 av 811647\n",
      "Vegsegment 500000 av 811647\n",
      "Vegsegment 510000 av 811647\n",
      "Vegsegment 520000 av 811647\n",
      "Vegsegment 530000 av 811647\n",
      "Vegsegment 540000 av 811647\n",
      "Vegsegment 550000 av 811647\n",
      "Vegsegment 560000 av 811647\n",
      "Vegsegment 570000 av 811647\n",
      "Vegsegment 580000 av 811647\n",
      "Vegsegment 590000 av 811647\n",
      "Vegsegment 600000 av 811647\n",
      "Vegsegment 610000 av 811647\n",
      "Vegsegment 620000 av 811647\n",
      "Vegsegment 630000 av 811647\n",
      "Vegsegment 640000 av 811647\n",
      "Vegsegment 650000 av 811647\n",
      "Vegsegment 660000 av 811647\n",
      "Vegsegment 670000 av 811647\n",
      "Vegsegment 680000 av 811647\n",
      "Vegsegment 690000 av 811647\n",
      "Vegsegment 700000 av 811647\n",
      "Vegsegment 710000 av 811647\n",
      "Vegsegment 720000 av 811647\n",
      "Vegsegment 730000 av 811647\n",
      "Vegsegment 740000 av 811647\n",
      "Vegsegment 750000 av 811647\n",
      "Vegsegment 760000 av 811647\n",
      "Vegsegment 770000 av 811647\n",
      "Vegsegment 780000 av 811647\n",
      "Vegsegment 790000 av 811647\n",
      "Vegsegment 800000 av 811647\n",
      "Vegsegment 810000 av 811647\n"
     ]
    }
   ],
   "source": [
    "vegdf = pd.DataFrame( nvdbapiv3.nvdbVegnett( filter=vegnettfilter ).to_records())"
   ]
  },
  {
   "cell_type": "code",
   "execution_count": 5,
   "metadata": {},
   "outputs": [],
   "source": [
    "col = ['veglenkesekvensid', 'startposisjon', 'sluttposisjon',\n",
    "       'kortform',  'detaljnivå', 'typeVeg', \n",
    "        'feltoversikt', 'lengde', 'fylke', 'kommune',\n",
    "       'medium', 'vref',\n",
    "       'vegkategori', 'trafikantgruppe', 'adskilte_lop', 'geometry' ]\n",
    "veg = gpd.GeoDataFrame( vegdf, geometry=vegdf['geometri'].apply( wkt.loads), crs=5973  )\n",
    "veg = veg[ col ]"
   ]
  },
  {
   "cell_type": "markdown",
   "metadata": {},
   "source": [
    "### Laster ned Motorveg-objekt og ekstra strengt KOSTRA-filter \n",
    "\n",
    "Men litt strengere - vi tar vekk ALLE kryssdeler \n"
   ]
  },
  {
   "cell_type": "code",
   "execution_count": 8,
   "metadata": {},
   "outputs": [],
   "source": [
    "motordf = pd.DataFrame( nvdbapiv3.nvdbFagdata(595, filter={'vegsystemreferanse' : 'Ev,Rv,Fv,Kv'}).to_records())"
   ]
  },
  {
   "cell_type": "code",
   "execution_count": 19,
   "metadata": {},
   "outputs": [],
   "source": [
    "motordf = motordf[ ~motordf['vref'].str.contains( 'KD' ) ]\n",
    "motordf = motordf[ ~motordf['vref'].str.contains( 'SA' ) ]\n",
    "motordf = motordf[ motordf['adskilte_lop'] != 'Mot' ] \n",
    "motordf = motordf[ motordf['veglenkeType'] != 'KONNEKTERING' ] "
   ]
  },
  {
   "cell_type": "code",
   "execution_count": 20,
   "metadata": {},
   "outputs": [
    {
     "data": {
      "text/plain": [
       "veglenkeType\n",
       "HOVED    1208\n",
       "Name: count, dtype: int64"
      ]
     },
     "execution_count": 20,
     "metadata": {},
     "output_type": "execute_result"
    }
   ],
   "source": [
    "motordf['veglenkeType'].value_counts()"
   ]
  },
  {
   "cell_type": "code",
   "execution_count": 24,
   "metadata": {},
   "outputs": [],
   "source": [
    "motordf = gpd.GeoDataFrame( motordf, geometry=motordf['geometri'].apply( wkt.loads ), crs=5973) "
   ]
  },
  {
   "cell_type": "code",
   "execution_count": 25,
   "metadata": {},
   "outputs": [],
   "source": [
    "motordf = motordf.drop( columns=['Vedtaksnummer', 'Arkivnummer', 'geometri'] )"
   ]
  },
  {
   "cell_type": "code",
   "execution_count": 30,
   "metadata": {},
   "outputs": [
    {
     "data": {
      "text/html": [
       "<div>\n",
       "<style scoped>\n",
       "    .dataframe tbody tr th:only-of-type {\n",
       "        vertical-align: middle;\n",
       "    }\n",
       "\n",
       "    .dataframe tbody tr th {\n",
       "        vertical-align: top;\n",
       "    }\n",
       "\n",
       "    .dataframe thead th {\n",
       "        text-align: right;\n",
       "    }\n",
       "</style>\n",
       "<table border=\"1\" class=\"dataframe\">\n",
       "  <thead>\n",
       "    <tr style=\"text-align: right;\">\n",
       "      <th></th>\n",
       "      <th>segmentlengde</th>\n",
       "    </tr>\n",
       "    <tr>\n",
       "      <th>vegkategori</th>\n",
       "      <th></th>\n",
       "    </tr>\n",
       "  </thead>\n",
       "  <tbody>\n",
       "    <tr>\n",
       "      <th>E</th>\n",
       "      <td>951140.802</td>\n",
       "    </tr>\n",
       "    <tr>\n",
       "      <th>F</th>\n",
       "      <td>8567.235</td>\n",
       "    </tr>\n",
       "    <tr>\n",
       "      <th>R</th>\n",
       "      <td>121589.401</td>\n",
       "    </tr>\n",
       "  </tbody>\n",
       "</table>\n",
       "</div>"
      ],
      "text/plain": [
       "             segmentlengde\n",
       "vegkategori               \n",
       "E               951140.802\n",
       "F                 8567.235\n",
       "R               121589.401"
      ]
     },
     "execution_count": 30,
     "metadata": {},
     "output_type": "execute_result"
    }
   ],
   "source": [
    "motordf.groupby( 'vegkategori').agg( {'segmentlengde' : 'sum' } )"
   ]
  },
  {
   "cell_type": "markdown",
   "metadata": {},
   "source": [
    "# Segmentering"
   ]
  },
  {
   "cell_type": "code",
   "execution_count": 31,
   "metadata": {},
   "outputs": [
    {
     "name": "stdout",
     "output_type": "stream",
     "text": [
      "Segmentering av 811647 datarader med veg og 1 typer fagdata med ialt 1208 datarader\n",
      "Segmentering: Behandler vegsegment 1 av 811647 ( 0% ) tidsbruk 0:00:00\n",
      "Segmentering: Behandler vegsegment 10 av 811647 ( 0% ) tidsbruk 0:00:00\n",
      "Segmentering: Behandler vegsegment 100 av 811647 ( 0% ) tidsbruk 0:00:00\n",
      "Segmentering: Behandler vegsegment 500 av 811647 ( 0% ) tidsbruk 0:00:01\n",
      "Segmentering: Behandler vegsegment 1000 av 811647 ( 0% ) Estimert ferdig om: 0:33:35 \n",
      "Segmentering: Behandler vegsegment 10000 av 811647 ( 1% ) Estimert ferdig om: 0:29:43 \n",
      "\n",
      "Degenert tilfelle (f.eks stedfesting MOT?) veglenkesekvens=22153 kommune=4202\n",
      "\tVegnett=(0.0,0.03037244), fagdata=(0.00301109, 0.03037244) \n",
      "\tev18 s11d1 m0-2986 \n",
      "\tPOINT (125643.605 6485928.875) - POINT (127140.653 6487913.239)\n",
      "\n",
      "Segmentering: Behandler vegsegment 20000 av 811647 ( 2% ) Estimert ferdig om: 0:29:16 \n",
      "Segmentering: Behandler vegsegment 30000 av 811647 ( 4% ) Estimert ferdig om: 0:28:56 \n",
      "Segmentering: Behandler vegsegment 40000 av 811647 ( 5% ) Estimert ferdig om: 0:28:44 \n",
      "Segmentering: Behandler vegsegment 50000 av 811647 ( 6% ) Estimert ferdig om: 0:28:28 \n",
      "Segmentering: Behandler vegsegment 60000 av 811647 ( 7% ) Estimert ferdig om: 0:28:07 \n",
      "Segmentering: Behandler vegsegment 70000 av 811647 ( 9% ) Estimert ferdig om: 0:27:45 \n",
      "Segmentering: Behandler vegsegment 80000 av 811647 ( 10% ) Estimert ferdig om: 0:27:18 \n",
      "Segmentering: Behandler vegsegment 90000 av 811647 ( 11% ) Estimert ferdig om: 0:26:56 \n",
      "Segmentering: Behandler vegsegment 100000 av 811647 ( 12% ) Estimert ferdig om: 0:26:32 \n",
      "Segmentering: Behandler vegsegment 110000 av 811647 ( 14% ) Estimert ferdig om: 0:26:07 \n",
      "\n",
      "Degenert tilfelle (f.eks stedfesting MOT?) veglenkesekvens=180781 kommune=3310\n",
      "\tVegnett=(0.38340796,0.39870052), fagdata=(0.39006379, 0.39870052) \n",
      "\tev16 s47d40 m8007-9787 \n",
      "\tPOINT (237040.39 6661126.49) - POINT (238015.118 6659922.12)\n",
      "\n",
      "Segmentering: Behandler vegsegment 120000 av 811647 ( 15% ) Estimert ferdig om: 0:25:42 \n",
      "Segmentering: Behandler vegsegment 130000 av 811647 ( 16% ) Estimert ferdig om: 0:25:19 \n",
      "Segmentering: Behandler vegsegment 140000 av 811647 ( 17% ) Estimert ferdig om: 0:24:56 \n",
      "Segmentering: Behandler vegsegment 150000 av 811647 ( 18% ) Estimert ferdig om: 0:24:34 \n",
      "Segmentering: Behandler vegsegment 160000 av 811647 ( 20% ) Estimert ferdig om: 0:24:11 \n",
      "Segmentering: Behandler vegsegment 170000 av 811647 ( 21% ) Estimert ferdig om: 0:23:47 \n",
      "Segmentering: Behandler vegsegment 180000 av 811647 ( 22% ) Estimert ferdig om: 0:23:24 \n",
      "Segmentering: Behandler vegsegment 190000 av 811647 ( 23% ) Estimert ferdig om: 0:23:02 \n",
      "Segmentering: Behandler vegsegment 200000 av 811647 ( 25% ) Estimert ferdig om: 0:22:42 \n",
      "Segmentering: Behandler vegsegment 210000 av 811647 ( 26% ) Estimert ferdig om: 0:22:20 \n",
      "\n",
      "Degenert tilfelle (f.eks stedfesting MOT?) veglenkesekvens=319516 kommune=1108\n",
      "\tVegnett=(0.84133752,0.84668229), fagdata=(0.84272517, 0.84668229) \n",
      "\tev39 s101d1 m9990-10029 \n",
      "\tPOINT (-32246.261 6556323.29) - POINT (-32235.537 6556286.26)\n",
      "\n",
      "Segmentering: Behandler vegsegment 220000 av 811647 ( 27% ) Estimert ferdig om: 0:21:57 \n",
      "Segmentering: Behandler vegsegment 230000 av 811647 ( 28% ) Estimert ferdig om: 0:21:40 \n",
      "\n",
      "Degenert tilfelle (f.eks stedfesting MOT?) veglenkesekvens=320581 kommune=1103\n",
      "\tVegnett=(0.98328392,0.98952726), fagdata=(0.98646036, 0.98952726) \n",
      "\tev39 s100d1 m16712-16846 \n",
      "\tPOINT (-34198.206 6565645.944) - POINT (-34178.854 6565556.99)\n",
      "\n",
      "\n",
      "Degenert tilfelle (f.eks stedfesting MOT?) veglenkesekvens=320581 kommune=1108\n",
      "\tVegnett=(0.50232682,0.51345767), fagdata=(0.51183442, 0.51345767) \n",
      "\tev39 s101d1 m66-3907 \n",
      "\tPOINT (-33998.786 6564995.155) - POINT (-34732.88 6561482.65)\n",
      "\n",
      "Segmentering: Behandler vegsegment 240000 av 811647 ( 30% ) Estimert ferdig om: 0:21:17 \n",
      "Segmentering: Behandler vegsegment 250000 av 811647 ( 31% ) Estimert ferdig om: 0:20:55 \n",
      "Segmentering: Behandler vegsegment 260000 av 811647 ( 32% ) Estimert ferdig om: 0:20:32 \n",
      "Segmentering: Behandler vegsegment 270000 av 811647 ( 33% ) Estimert ferdig om: 0:20:09 \n",
      "Segmentering: Behandler vegsegment 280000 av 811647 ( 34% ) Estimert ferdig om: 0:19:47 \n",
      "Segmentering: Behandler vegsegment 290000 av 811647 ( 36% ) Estimert ferdig om: 0:19:24 \n",
      "Segmentering: Behandler vegsegment 300000 av 811647 ( 37% ) Estimert ferdig om: 0:19:02 \n",
      "Segmentering: Behandler vegsegment 310000 av 811647 ( 38% ) Estimert ferdig om: 0:18:39 \n",
      "\n",
      "Degenert tilfelle (f.eks stedfesting MOT?) veglenkesekvens=444231 kommune=3207\n",
      "\tVegnett=(0.91199419,0.93318568), fagdata=(0.92696644, 0.93318568) \n",
      "\tev18 s57d1 m471-765 \n",
      "\tPOINT (263223.8 6639142) - POINT (263201.4 6639035.3)\n",
      "\n",
      "\n",
      "Degenert tilfelle (f.eks stedfesting MOT?) veglenkesekvens=444232 kommune=3201\n",
      "\tVegnett=(0.60297996,0.61144422), fagdata=(0.60941901, 0.61144422) \n",
      "\tev18 s53d1 m0-173 \n",
      "\tPOINT (250843.3 6647978.2) - POINT (250929 6648015.2)\n",
      "\n",
      "\n",
      "Degenert tilfelle (f.eks stedfesting MOT?) veglenkesekvens=444232 kommune=3201\n",
      "\tVegnett=(0.77523652,0.78923904), fagdata=(0.78276801, 0.78923904) \n",
      "\tev18 s52d1 m99-174 \n",
      "\tPOINT (249442.335 6647221.097) - POINT (249491.053 6647277.909)\n",
      "\n",
      "Segmentering: Behandler vegsegment 320000 av 811647 ( 39% ) Estimert ferdig om: 0:18:16 \n",
      "Segmentering: Behandler vegsegment 330000 av 811647 ( 41% ) Estimert ferdig om: 0:17:53 \n",
      "Segmentering: Behandler vegsegment 340000 av 811647 ( 42% ) Estimert ferdig om: 0:17:32 \n",
      "Segmentering: Behandler vegsegment 350000 av 811647 ( 43% ) Estimert ferdig om: 0:17:11 \n",
      "Segmentering: Behandler vegsegment 360000 av 811647 ( 44% ) Estimert ferdig om: 0:16:49 \n",
      "Segmentering: Behandler vegsegment 370000 av 811647 ( 46% ) Estimert ferdig om: 0:16:26 \n",
      "Segmentering: Behandler vegsegment 380000 av 811647 ( 47% ) Estimert ferdig om: 0:16:04 \n",
      "Segmentering: Behandler vegsegment 390000 av 811647 ( 48% ) Estimert ferdig om: 0:15:41 \n",
      "Segmentering: Behandler vegsegment 400000 av 811647 ( 49% ) Estimert ferdig om: 0:15:19 \n",
      "Segmentering: Behandler vegsegment 410000 av 811647 ( 51% ) Estimert ferdig om: 0:14:56 \n",
      "Segmentering: Behandler vegsegment 420000 av 811647 ( 52% ) Estimert ferdig om: 0:14:33 \n",
      "Segmentering: Behandler vegsegment 430000 av 811647 ( 53% ) Estimert ferdig om: 0:14:10 \n",
      "Segmentering: Behandler vegsegment 440000 av 811647 ( 54% ) Estimert ferdig om: 0:13:48 \n",
      "Segmentering: Behandler vegsegment 450000 av 811647 ( 55% ) Estimert ferdig om: 0:13:26 \n",
      "Segmentering: Behandler vegsegment 460000 av 811647 ( 57% ) Estimert ferdig om: 0:13:04 \n",
      "Segmentering: Behandler vegsegment 470000 av 811647 ( 58% ) Estimert ferdig om: 0:12:42 \n",
      "Segmentering: Behandler vegsegment 480000 av 811647 ( 59% ) Estimert ferdig om: 0:12:19 \n",
      "Segmentering: Behandler vegsegment 490000 av 811647 ( 60% ) Estimert ferdig om: 0:11:57 \n",
      "Segmentering: Behandler vegsegment 500000 av 811647 ( 62% ) Estimert ferdig om: 0:11:36 \n",
      "\n",
      "Degenert tilfelle (f.eks stedfesting MOT?) veglenkesekvens=805616 kommune=4601\n",
      "\tVegnett=(0.95574246,1.0), fagdata=(0.98403797, 1.0) \n",
      "\tev39 s77d1 m0-156 \n",
      "\tPOINT (-31396.205 6739220.74) - POINT (-31539.104 6739158.848)\n",
      "\n",
      "Segmentering: Behandler vegsegment 510000 av 811647 ( 63% ) Estimert ferdig om: 0:11:14 \n",
      "Segmentering: Behandler vegsegment 520000 av 811647 ( 64% ) Estimert ferdig om: 0:10:51 \n",
      "Segmentering: Behandler vegsegment 530000 av 811647 ( 65% ) Estimert ferdig om: 0:10:30 \n",
      "Segmentering: Behandler vegsegment 540000 av 811647 ( 67% ) Estimert ferdig om: 0:10:08 \n",
      "Segmentering: Behandler vegsegment 550000 av 811647 ( 68% ) Estimert ferdig om: 0:09:45 \n",
      "Segmentering: Behandler vegsegment 560000 av 811647 ( 69% ) Estimert ferdig om: 0:09:23 \n",
      "Segmentering: Behandler vegsegment 570000 av 811647 ( 70% ) Estimert ferdig om: 0:09:00 \n",
      "Segmentering: Behandler vegsegment 580000 av 811647 ( 71% ) Estimert ferdig om: 0:08:38 \n",
      "Segmentering: Behandler vegsegment 590000 av 811647 ( 73% ) Estimert ferdig om: 0:08:15 \n",
      "Segmentering: Behandler vegsegment 600000 av 811647 ( 74% ) Estimert ferdig om: 0:07:53 \n",
      "Segmentering: Behandler vegsegment 610000 av 811647 ( 75% ) Estimert ferdig om: 0:07:30 \n",
      "Segmentering: Behandler vegsegment 620000 av 811647 ( 76% ) Estimert ferdig om: 0:07:08 \n",
      "Segmentering: Behandler vegsegment 630000 av 811647 ( 78% ) Estimert ferdig om: 0:06:46 \n",
      "Segmentering: Behandler vegsegment 640000 av 811647 ( 79% ) Estimert ferdig om: 0:06:23 \n",
      "Segmentering: Behandler vegsegment 650000 av 811647 ( 80% ) Estimert ferdig om: 0:06:01 \n",
      "Segmentering: Behandler vegsegment 660000 av 811647 ( 81% ) Estimert ferdig om: 0:05:39 \n",
      "Segmentering: Behandler vegsegment 670000 av 811647 ( 83% ) Estimert ferdig om: 0:05:16 \n",
      "Segmentering: Behandler vegsegment 680000 av 811647 ( 84% ) Estimert ferdig om: 0:04:54 \n",
      "Segmentering: Behandler vegsegment 690000 av 811647 ( 85% ) Estimert ferdig om: 0:04:32 \n",
      "Segmentering: Behandler vegsegment 700000 av 811647 ( 86% ) Estimert ferdig om: 0:04:09 \n",
      "Segmentering: Behandler vegsegment 710000 av 811647 ( 87% ) Estimert ferdig om: 0:03:47 \n",
      "\n",
      "Degenert tilfelle (f.eks stedfesting MOT?) veglenkesekvens=1669536 kommune=3905\n",
      "\tVegnett=(0.54538554,0.80602987), fagdata=(0.56669743, 0.80602987) \n",
      "\tev18 s39d1 m0-617 \n",
      "\tPOINT (236089.399 6583491.824) - POINT (236190.56 6583673.56)\n",
      "\n",
      "Segmentering: Behandler vegsegment 720000 av 811647 ( 89% ) Estimert ferdig om: 0:03:24 \n",
      "Segmentering: Behandler vegsegment 730000 av 811647 ( 90% ) Estimert ferdig om: 0:03:02 \n",
      "\n",
      "Degenert tilfelle (f.eks stedfesting MOT?) veglenkesekvens=1796935 kommune=3218\n",
      "\tVegnett=(0.60194207,1.0), fagdata=(0.69927536, 1.0) \n",
      "\tev18 s59d1 m837-1003 \n",
      "\tPOINT (263017.73 6630107.51) - POINT (263035.244 6629947.582)\n",
      "\n",
      "Segmentering: Behandler vegsegment 740000 av 811647 ( 91% ) Estimert ferdig om: 0:02:40 \n",
      "\n",
      "Degenert tilfelle (f.eks stedfesting MOT?) veglenkesekvens=1878165 kommune=301\n",
      "\tVegnett=(0.75225361,1.0), fagdata=(0.79585806, 1.0) \n",
      "\tev18 s56d1 m0-116 \n",
      "\tPOINT (262761.88 6647853.38) - POINT (262697.72 6647756.714)\n",
      "\n",
      "Segmentering: Behandler vegsegment 750000 av 811647 ( 92% ) Estimert ferdig om: 0:02:17 \n",
      "Segmentering: Behandler vegsegment 760000 av 811647 ( 94% ) Estimert ferdig om: 0:01:55 \n",
      "\n",
      "Degenert tilfelle (f.eks stedfesting MOT?) veglenkesekvens=2388328 kommune=3118\n",
      "\tVegnett=(0.26187802,0.95370242), fagdata=(0.37898558, 0.51813996) \n",
      "\tev18 s65d1 m7708-7907 \n",
      "\tPOINT (298635.495 6606595.924) - POINT (298812.215 6606506.309)\n",
      "\n",
      "Segmentering: Behandler vegsegment 770000 av 811647 ( 95% ) Estimert ferdig om: 0:01:33 \n",
      "Segmentering: Behandler vegsegment 780000 av 811647 ( 96% ) Estimert ferdig om: 0:01:10 \n",
      "\n",
      "Degenert tilfelle (f.eks stedfesting MOT?) veglenkesekvens=2607269 kommune=3122\n",
      "\tVegnett=(0.06988983,0.08712138), fagdata=(0.08207485, 0.08712138) \n",
      "\tev18 s68d1 m6733-6770 \n",
      "\tPOINT (315840.729 6598690.26) - POINT (315845.572 6598700.328)\n",
      "\n",
      "Segmentering: Behandler vegsegment 790000 av 811647 ( 97% ) Estimert ferdig om: 0:00:48 \n",
      "\n",
      "Degenert tilfelle (f.eks stedfesting MOT?) veglenkesekvens=2809663 kommune=4213\n",
      "\tVegnett=(0.35135435,1.0), fagdata=(0.56705216, 1.0) \n",
      "\tev18 s18d1 m3396-3581 \n",
      "\tPOINT (146148.42 6515276.12) - POINT (146290.719 6515391.425)\n",
      "\n",
      "\n",
      "Degenert tilfelle (f.eks stedfesting MOT?) veglenkesekvens=2982044 kommune=4012\n",
      "\tVegnett=(0.0,0.80391818), fagdata=(0.31240545, 0.80391818) \n",
      "\tev18 s24d1 m10356-11006 \n",
      "\tPOINT (181967.38 6549045.211) - POINT (182552.065 6549321.957)\n",
      "\n",
      "Segmentering: Behandler vegsegment 800000 av 811647 ( 99% ) Estimert ferdig om: 0:00:26 \n",
      "Segmentering: Behandler vegsegment 810000 av 811647 ( 100% ) Estimert ferdig om: 0:00:03 \n",
      "Fagdata: Fant vegobjekter med stedfesting MOT for 1611 av 1208 datarader fordelt på 185 veglenkesekvenser\n",
      "Segmentering ferdig, tidsbruk: 0:30:12\n"
     ]
    }
   ],
   "source": [
    "segm = segmentering.segmenter( veg, motordf ) "
   ]
  },
  {
   "cell_type": "code",
   "execution_count": 39,
   "metadata": {},
   "outputs": [],
   "source": [
    "segm['Motorvegtype'] = segm['Motorvegtype'].fillna( 'Vanlig veg' ) "
   ]
  },
  {
   "cell_type": "code",
   "execution_count": 47,
   "metadata": {},
   "outputs": [],
   "source": [
    "segm['Lengde (km)'] = segm['geometry'].apply( lambda x : x.length / 1000 ) "
   ]
  },
  {
   "cell_type": "code",
   "execution_count": 49,
   "metadata": {},
   "outputs": [],
   "source": [
    "resultat = segm.groupby( ['vegkategori', 'Motorvegtype']).agg( {'Lengde (km)' : 'sum' } ).reset_index()"
   ]
  },
  {
   "cell_type": "code",
   "execution_count": 55,
   "metadata": {},
   "outputs": [
    {
     "name": "stdout",
     "output_type": "stream",
     "text": [
      "skrev 1 faner til motorveger.xlsx \n"
     ]
    }
   ],
   "source": [
    "nvdbgeotricks.skrivexcel( 'motorveger.xlsx',  resultat.sort_values( by='Motorvegtype' ) )"
   ]
  },
  {
   "cell_type": "code",
   "execution_count": 54,
   "metadata": {},
   "outputs": [
    {
     "data": {
      "text/plain": [
       "\u001b[0;31mSignature:\u001b[0m\n",
       "\u001b[0mnvdbgeotricks\u001b[0m\u001b[0;34m.\u001b[0m\u001b[0mskrivexcel\u001b[0m\u001b[0;34m(\u001b[0m\u001b[0;34m\u001b[0m\n",
       "\u001b[0;34m\u001b[0m    \u001b[0mfilnavn\u001b[0m\u001b[0;34m,\u001b[0m\u001b[0;34m\u001b[0m\n",
       "\u001b[0;34m\u001b[0m    \u001b[0mdataFrameListe\u001b[0m\u001b[0;34m,\u001b[0m\u001b[0;34m\u001b[0m\n",
       "\u001b[0;34m\u001b[0m    \u001b[0msheet_nameListe\u001b[0m\u001b[0;34m=\u001b[0m\u001b[0;34m[\u001b[0m\u001b[0;34m]\u001b[0m\u001b[0;34m,\u001b[0m\u001b[0;34m\u001b[0m\n",
       "\u001b[0;34m\u001b[0m    \u001b[0mindexListe\u001b[0m\u001b[0;34m=\u001b[0m\u001b[0;34m[\u001b[0m\u001b[0;34m]\u001b[0m\u001b[0;34m,\u001b[0m\u001b[0;34m\u001b[0m\n",
       "\u001b[0;34m\u001b[0m    \u001b[0mslettgeometri\u001b[0m\u001b[0;34m=\u001b[0m\u001b[0;32mTrue\u001b[0m\u001b[0;34m,\u001b[0m\u001b[0;34m\u001b[0m\n",
       "\u001b[0;34m\u001b[0m\u001b[0;34m)\u001b[0m\u001b[0;34m\u001b[0m\u001b[0;34m\u001b[0m\u001b[0m\n",
       "\u001b[0;31mDocstring:\u001b[0m\n",
       "Skriver liste med dataFrame til excel, med kolonnebredde=lengste element i header eller datainnhold\n",
       "\n",
       "Skipper kolonner med navn \"geometri\" eller \"geometry\" \n",
       "\n",
       "ARGUMENTS\n",
       "    filnavn : Navn på excel-fil \n",
       "\n",
       "    dataFrameListe : Liste med dataframe, eller en enkelt dataFrame / geodataframe \n",
       "\n",
       "KEYWORDS\n",
       "    sheet_nameListe : [] Liste med navn på fanene i exel-arket. Hvis tom liste brukes Fane1, Fane2...\n",
       "\n",
       "    indexListe : [] Angir om index skal med som første kolonne(r), liste med True eller False. Default: Uten index. \n",
       "\n",
       "    slettgeometri : True . Sletter geometrikolonner \n",
       "\u001b[0;31mFile:\u001b[0m      /mnt/c/data/leveranser/nvdbapi-V3/nvdbgeotricks.py\n",
       "\u001b[0;31mType:\u001b[0m      function"
      ]
     },
     "metadata": {},
     "output_type": "display_data"
    }
   ],
   "source": [
    "nvdbgeotricks.skrivexcel?"
   ]
  },
  {
   "cell_type": "code",
   "execution_count": 53,
   "metadata": {},
   "outputs": [
    {
     "data": {
      "text/html": [
       "<div>\n",
       "<style scoped>\n",
       "    .dataframe tbody tr th:only-of-type {\n",
       "        vertical-align: middle;\n",
       "    }\n",
       "\n",
       "    .dataframe tbody tr th {\n",
       "        vertical-align: top;\n",
       "    }\n",
       "\n",
       "    .dataframe thead th {\n",
       "        text-align: right;\n",
       "    }\n",
       "</style>\n",
       "<table border=\"1\" class=\"dataframe\">\n",
       "  <thead>\n",
       "    <tr style=\"text-align: right;\">\n",
       "      <th></th>\n",
       "      <th>veglenkesekvensid</th>\n",
       "      <th>startposisjon</th>\n",
       "      <th>sluttposisjon</th>\n",
       "      <th>vref</th>\n",
       "      <th>feltoversikt</th>\n",
       "      <th>fylke</th>\n",
       "      <th>kommune</th>\n",
       "      <th>vegkategori</th>\n",
       "      <th>geometry</th>\n",
       "      <th>versjon</th>\n",
       "      <th>Motorvegtype</th>\n",
       "      <th>segmentlengde</th>\n",
       "      <th>segmentretning</th>\n",
       "      <th>stedfesting_retning</th>\n",
       "      <th>Lengde (km)</th>\n",
       "    </tr>\n",
       "  </thead>\n",
       "  <tbody>\n",
       "    <tr>\n",
       "      <th>777125</th>\n",
       "      <td>2518835</td>\n",
       "      <td>0.949416</td>\n",
       "      <td>0.951759</td>\n",
       "      <td>fv557 s1d1 m9309-9320</td>\n",
       "      <td>1</td>\n",
       "      <td>46</td>\n",
       "      <td>4601</td>\n",
       "      <td>F</td>\n",
       "      <td>LINESTRING Z (-36295.787 6732312.429 34.025, -...</td>\n",
       "      <td>1.0</td>\n",
       "      <td>Motorveg</td>\n",
       "      <td>227.686</td>\n",
       "      <td>MED</td>\n",
       "      <td>NaN</td>\n",
       "      <td>0.011432</td>\n",
       "    </tr>\n",
       "    <tr>\n",
       "      <th>777126</th>\n",
       "      <td>2518835</td>\n",
       "      <td>0.951759</td>\n",
       "      <td>0.996068</td>\n",
       "      <td>fv557 s1d1 m9320-9536</td>\n",
       "      <td>1</td>\n",
       "      <td>46</td>\n",
       "      <td>4601</td>\n",
       "      <td>F</td>\n",
       "      <td>LINESTRING Z (-36294.09 6732323.55 34.055, -36...</td>\n",
       "      <td>1.0</td>\n",
       "      <td>Motorveg</td>\n",
       "      <td>227.686</td>\n",
       "      <td>MED</td>\n",
       "      <td>NaN</td>\n",
       "      <td>0.216429</td>\n",
       "    </tr>\n",
       "  </tbody>\n",
       "</table>\n",
       "</div>"
      ],
      "text/plain": [
       "        veglenkesekvensid  startposisjon  sluttposisjon  \\\n",
       "777125            2518835       0.949416       0.951759   \n",
       "777126            2518835       0.951759       0.996068   \n",
       "\n",
       "                         vref feltoversikt  fylke  kommune vegkategori  \\\n",
       "777125  fv557 s1d1 m9309-9320            1     46     4601           F   \n",
       "777126  fv557 s1d1 m9320-9536            1     46     4601           F   \n",
       "\n",
       "                                                 geometry  versjon  \\\n",
       "777125  LINESTRING Z (-36295.787 6732312.429 34.025, -...      1.0   \n",
       "777126  LINESTRING Z (-36294.09 6732323.55 34.055, -36...      1.0   \n",
       "\n",
       "       Motorvegtype  segmentlengde segmentretning stedfesting_retning  \\\n",
       "777125     Motorveg        227.686            MED                 NaN   \n",
       "777126     Motorveg        227.686            MED                 NaN   \n",
       "\n",
       "        Lengde (km)  \n",
       "777125     0.011432  \n",
       "777126     0.216429  "
      ]
     },
     "execution_count": 53,
     "metadata": {},
     "output_type": "execute_result"
    }
   ],
   "source": [
    "segm[ (segm['vegkategori'] == 'F') & (segm['Motorvegtype'] == 'Motorveg') ]"
   ]
  }
 ],
 "metadata": {
  "kernelspec": {
   "display_name": "Python [conda env:kulegeotingAug2022] *",
   "language": "python",
   "name": "conda-env-kulegeotingAug2022-py"
  },
  "language_info": {
   "codemirror_mode": {
    "name": "ipython",
    "version": 3
   },
   "file_extension": ".py",
   "mimetype": "text/x-python",
   "name": "python",
   "nbconvert_exporter": "python",
   "pygments_lexer": "ipython3",
   "version": "3.12.6"
  }
 },
 "nbformat": 4,
 "nbformat_minor": 4
}
