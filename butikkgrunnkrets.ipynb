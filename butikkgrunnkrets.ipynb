{
 "cells": [
  {
   "cell_type": "code",
   "execution_count": 11,
   "id": "a02021f1",
   "metadata": {},
   "outputs": [],
   "source": [
    "import pandas as pd\n",
    "import geopandas as gpd\n",
    "from shapely.geometry import Point, LineString\n",
    "from shapely import wkt "
   ]
  },
  {
   "cell_type": "code",
   "execution_count": 2,
   "id": "f62977d0",
   "metadata": {},
   "outputs": [],
   "source": [
    "data = pd.read_csv( 'bu_stores_30km.csv')"
   ]
  },
  {
   "cell_type": "code",
   "execution_count": 6,
   "id": "c7e0d4a3",
   "metadata": {},
   "outputs": [],
   "source": [
    "data['geometry'] = data.apply( lambda row: LineString( [ wkt.loads(row['bu_geometry']), wkt.loads(row['store_geometry'])    ]  ) , axis=1)"
   ]
  },
  {
   "cell_type": "code",
   "execution_count": 7,
   "id": "ad655b04",
   "metadata": {},
   "outputs": [],
   "source": [
    "data['length'] = data['geometry'].apply( lambda x : x.length )"
   ]
  },
  {
   "cell_type": "code",
   "execution_count": 12,
   "id": "e72be835",
   "metadata": {},
   "outputs": [],
   "source": [
    "data = gpd.GeoDataFrame( data, geometry='geometry', crs=25833 )"
   ]
  },
  {
   "cell_type": "code",
   "execution_count": 40,
   "id": "ff2617d2",
   "metadata": {},
   "outputs": [
    {
     "data": {
      "text/html": [
       "<div>\n",
       "<style scoped>\n",
       "    .dataframe tbody tr th:only-of-type {\n",
       "        vertical-align: middle;\n",
       "    }\n",
       "\n",
       "    .dataframe tbody tr th {\n",
       "        vertical-align: top;\n",
       "    }\n",
       "\n",
       "    .dataframe thead th {\n",
       "        text-align: right;\n",
       "    }\n",
       "</style>\n",
       "<table border=\"1\" class=\"dataframe\">\n",
       "  <thead>\n",
       "    <tr style=\"text-align: right;\">\n",
       "      <th></th>\n",
       "      <th>unikid</th>\n",
       "      <th>grunnkrets_id</th>\n",
       "      <th>bu_geometry</th>\n",
       "      <th>store_geometry</th>\n",
       "      <th>geometry</th>\n",
       "      <th>length</th>\n",
       "    </tr>\n",
       "  </thead>\n",
       "  <tbody>\n",
       "    <tr>\n",
       "      <th>0</th>\n",
       "      <td>bunnpris::1</td>\n",
       "      <td>50010101</td>\n",
       "      <td>POINT (274150 7028950)</td>\n",
       "      <td>POINT (273505.1333432333 7040069.715856337)</td>\n",
       "      <td>LINESTRING (274150.000 7028950.000, 273505.133...</td>\n",
       "      <td>11138.399065</td>\n",
       "    </tr>\n",
       "    <tr>\n",
       "      <th>1</th>\n",
       "      <td>bunnpris::1</td>\n",
       "      <td>50010102</td>\n",
       "      <td>POINT (272850 7030050)</td>\n",
       "      <td>POINT (273505.1333432333 7040069.715856337)</td>\n",
       "      <td>LINESTRING (272850.000 7030050.000, 273505.133...</td>\n",
       "      <td>10041.110772</td>\n",
       "    </tr>\n",
       "    <tr>\n",
       "      <th>2</th>\n",
       "      <td>bunnpris::1</td>\n",
       "      <td>50010103</td>\n",
       "      <td>POINT (271350 7028150)</td>\n",
       "      <td>POINT (273505.1333432333 7040069.715856337)</td>\n",
       "      <td>LINESTRING (271350.000 7028150.000, 273505.133...</td>\n",
       "      <td>12112.977579</td>\n",
       "    </tr>\n",
       "    <tr>\n",
       "      <th>3</th>\n",
       "      <td>bunnpris::1</td>\n",
       "      <td>50010104</td>\n",
       "      <td>POINT (273150 7027150)</td>\n",
       "      <td>POINT (273505.1333432333 7040069.715856337)</td>\n",
       "      <td>LINESTRING (273150.000 7027150.000, 273505.133...</td>\n",
       "      <td>12924.595835</td>\n",
       "    </tr>\n",
       "    <tr>\n",
       "      <th>4</th>\n",
       "      <td>bunnpris::1</td>\n",
       "      <td>50010105</td>\n",
       "      <td>POINT (274050 7026850)</td>\n",
       "      <td>POINT (273505.1333432333 7040069.715856337)</td>\n",
       "      <td>LINESTRING (274050.000 7026850.000, 273505.133...</td>\n",
       "      <td>13230.939762</td>\n",
       "    </tr>\n",
       "    <tr>\n",
       "      <th>...</th>\n",
       "      <td>...</td>\n",
       "      <td>...</td>\n",
       "      <td>...</td>\n",
       "      <td>...</td>\n",
       "      <td>...</td>\n",
       "      <td>...</td>\n",
       "    </tr>\n",
       "    <tr>\n",
       "      <th>580</th>\n",
       "      <td>bunnpris::1</td>\n",
       "      <td>50540604</td>\n",
       "      <td>POINT (265650 7066750)</td>\n",
       "      <td>POINT (273505.1333432333 7040069.715856337)</td>\n",
       "      <td>LINESTRING (265650.000 7066750.000, 273505.133...</td>\n",
       "      <td>27812.599336</td>\n",
       "    </tr>\n",
       "    <tr>\n",
       "      <th>581</th>\n",
       "      <td>bunnpris::1</td>\n",
       "      <td>50590410</td>\n",
       "      <td>POINT (245650 7035750)</td>\n",
       "      <td>POINT (273505.1333432333 7040069.715856337)</td>\n",
       "      <td>LINESTRING (245650.000 7035750.000, 273505.133...</td>\n",
       "      <td>28188.089659</td>\n",
       "    </tr>\n",
       "    <tr>\n",
       "      <th>582</th>\n",
       "      <td>bunnpris::1</td>\n",
       "      <td>50590411</td>\n",
       "      <td>POINT (248650 7042150)</td>\n",
       "      <td>POINT (273505.1333432333 7040069.715856337)</td>\n",
       "      <td>LINESTRING (248650.000 7042150.000, 273505.133...</td>\n",
       "      <td>24942.037520</td>\n",
       "    </tr>\n",
       "    <tr>\n",
       "      <th>583</th>\n",
       "      <td>bunnpris::1</td>\n",
       "      <td>50590807</td>\n",
       "      <td>POINT (246050 7046950)</td>\n",
       "      <td>POINT (273505.1333432333 7040069.715856337)</td>\n",
       "      <td>LINESTRING (246050.000 7046950.000, 273505.133...</td>\n",
       "      <td>28304.110246</td>\n",
       "    </tr>\n",
       "    <tr>\n",
       "      <th>584</th>\n",
       "      <td>bunnpris::1</td>\n",
       "      <td>50310310</td>\n",
       "      <td>POINT (291156.0886670448 7028187.134589853)</td>\n",
       "      <td>POINT (273505.1333432333 7040069.715856337)</td>\n",
       "      <td>LINESTRING (291156.089 7028187.135, 273505.133...</td>\n",
       "      <td>21277.968921</td>\n",
       "    </tr>\n",
       "  </tbody>\n",
       "</table>\n",
       "<p>585 rows × 6 columns</p>\n",
       "</div>"
      ],
      "text/plain": [
       "          unikid  grunnkrets_id                                  bu_geometry  \\\n",
       "0    bunnpris::1       50010101                       POINT (274150 7028950)   \n",
       "1    bunnpris::1       50010102                       POINT (272850 7030050)   \n",
       "2    bunnpris::1       50010103                       POINT (271350 7028150)   \n",
       "3    bunnpris::1       50010104                       POINT (273150 7027150)   \n",
       "4    bunnpris::1       50010105                       POINT (274050 7026850)   \n",
       "..           ...            ...                                          ...   \n",
       "580  bunnpris::1       50540604                       POINT (265650 7066750)   \n",
       "581  bunnpris::1       50590410                       POINT (245650 7035750)   \n",
       "582  bunnpris::1       50590411                       POINT (248650 7042150)   \n",
       "583  bunnpris::1       50590807                       POINT (246050 7046950)   \n",
       "584  bunnpris::1       50310310  POINT (291156.0886670448 7028187.134589853)   \n",
       "\n",
       "                                  store_geometry  \\\n",
       "0    POINT (273505.1333432333 7040069.715856337)   \n",
       "1    POINT (273505.1333432333 7040069.715856337)   \n",
       "2    POINT (273505.1333432333 7040069.715856337)   \n",
       "3    POINT (273505.1333432333 7040069.715856337)   \n",
       "4    POINT (273505.1333432333 7040069.715856337)   \n",
       "..                                           ...   \n",
       "580  POINT (273505.1333432333 7040069.715856337)   \n",
       "581  POINT (273505.1333432333 7040069.715856337)   \n",
       "582  POINT (273505.1333432333 7040069.715856337)   \n",
       "583  POINT (273505.1333432333 7040069.715856337)   \n",
       "584  POINT (273505.1333432333 7040069.715856337)   \n",
       "\n",
       "                                              geometry        length  \n",
       "0    LINESTRING (274150.000 7028950.000, 273505.133...  11138.399065  \n",
       "1    LINESTRING (272850.000 7030050.000, 273505.133...  10041.110772  \n",
       "2    LINESTRING (271350.000 7028150.000, 273505.133...  12112.977579  \n",
       "3    LINESTRING (273150.000 7027150.000, 273505.133...  12924.595835  \n",
       "4    LINESTRING (274050.000 7026850.000, 273505.133...  13230.939762  \n",
       "..                                                 ...           ...  \n",
       "580  LINESTRING (265650.000 7066750.000, 273505.133...  27812.599336  \n",
       "581  LINESTRING (245650.000 7035750.000, 273505.133...  28188.089659  \n",
       "582  LINESTRING (248650.000 7042150.000, 273505.133...  24942.037520  \n",
       "583  LINESTRING (246050.000 7046950.000, 273505.133...  28304.110246  \n",
       "584  LINESTRING (291156.089 7028187.135, 273505.133...  21277.968921  \n",
       "\n",
       "[585 rows x 6 columns]"
      ]
     },
     "execution_count": 40,
     "metadata": {},
     "output_type": "execute_result"
    }
   ],
   "source": [
    "data[ data['unikid'] == 'bunnpris::1']"
   ]
  },
  {
   "cell_type": "code",
   "execution_count": 30,
   "id": "ec8666a3",
   "metadata": {},
   "outputs": [],
   "source": [
    "temp = data[ data['unikid'] == 'bunnpris::1']\n",
    "temp.to_file( 'butikkgrunnkrets.gpkg', layer='bunnpris1', driver='GPKG')"
   ]
  },
  {
   "cell_type": "code",
   "execution_count": 31,
   "id": "f16ed733",
   "metadata": {},
   "outputs": [],
   "source": [
    "single_store_value = data.drop_duplicates( subset='store_geometry')[['unikid', 'grunnkrets_id', 'store_geometry']]"
   ]
  },
  {
   "cell_type": "code",
   "execution_count": 32,
   "id": "a999dd44",
   "metadata": {},
   "outputs": [],
   "source": [
    "single_store_value['geometry'] = single_store_value['store_geometry'].apply( wkt.loads )"
   ]
  },
  {
   "cell_type": "code",
   "execution_count": 33,
   "id": "6da5a439",
   "metadata": {},
   "outputs": [],
   "source": [
    "single_store_value = gpd.GeoDataFrame( single_store_value, geometry='geometry', crs=25833)"
   ]
  },
  {
   "cell_type": "code",
   "execution_count": 38,
   "id": "15f75746",
   "metadata": {},
   "outputs": [],
   "source": [
    "single_store_value.to_file( 'butikkgrunnkrets2.gpkg', layer='store_geom', driver='GPKG' )"
   ]
  },
  {
   "cell_type": "code",
   "execution_count": 41,
   "id": "6436256f",
   "metadata": {},
   "outputs": [],
   "source": [
    "bu_geom = data.drop_duplicates(subset='bu_geometry')[['unikid', 'grunnkrets_id', 'bu_geometry']]"
   ]
  },
  {
   "cell_type": "code",
   "execution_count": 42,
   "id": "44f086b7",
   "metadata": {},
   "outputs": [],
   "source": [
    "bu_geom['geometry'] = bu_geom['bu_geometry'].apply( wkt.loads )"
   ]
  },
  {
   "cell_type": "code",
   "execution_count": 43,
   "id": "3467ec61",
   "metadata": {},
   "outputs": [],
   "source": [
    "bu_geom = gpd.GeoDataFrame( bu_geom, geometry='geometry', crs=25833)"
   ]
  },
  {
   "cell_type": "code",
   "execution_count": 44,
   "id": "fc3331c1",
   "metadata": {},
   "outputs": [],
   "source": [
    "bu_geom.to_file( 'butikkgrunnkrets2.gpkg', layer='bu_geom', driver='GPKG')"
   ]
  },
  {
   "cell_type": "code",
   "execution_count": 45,
   "id": "7fc0b825",
   "metadata": {},
   "outputs": [
    {
     "data": {
      "text/plain": [
       "count    1.785499e+06\n",
       "mean     1.547898e+04\n",
       "std      8.384199e+03\n",
       "min      2.123908e+00\n",
       "25%      8.411270e+03\n",
       "50%      1.541137e+04\n",
       "75%      2.268836e+04\n",
       "max      3.000000e+04\n",
       "Name: length, dtype: float64"
      ]
     },
     "execution_count": 45,
     "metadata": {},
     "output_type": "execute_result"
    }
   ],
   "source": [
    "data['length'].describe()"
   ]
  },
  {
   "cell_type": "code",
   "execution_count": 49,
   "id": "7ec8e3fb",
   "metadata": {},
   "outputs": [
    {
     "name": "stdout",
     "output_type": "stream",
     "text": [
      "Antall med lengde < 100  : 483 \n",
      "Antall med lengde < 200  : 1833 \n",
      "Antall med lengde < 300  : 3779 \n",
      "Antall med lengde < 400  : 6193 \n",
      "Antall med lengde < 500  : 8913 \n",
      "Antall med lengde < 600  : 11873 \n",
      "Antall med lengde < 700  : 15238 \n",
      "Antall med lengde < 800  : 18780 \n",
      "Antall med lengde < 900  : 22585 \n",
      "Antall med lengde < 1000  : 26556 \n"
     ]
    }
   ],
   "source": [
    "for l in range( 100, 1100, 100): \n",
    "    print( f\"Antall med lengde < {l}  : {len( data[ data['length'] < l] )} \")"
   ]
  },
  {
   "cell_type": "code",
   "execution_count": 52,
   "id": "7e3866f5",
   "metadata": {},
   "outputs": [
    {
     "data": {
      "text/plain": [
       "20.665497685185183"
      ]
     },
     "execution_count": 52,
     "metadata": {},
     "output_type": "execute_result"
    }
   ],
   "source": [
    "len( data ) / (24*3600)"
   ]
  },
  {
   "cell_type": "code",
   "execution_count": 53,
   "id": "3f62c05d",
   "metadata": {},
   "outputs": [
    {
     "data": {
      "text/plain": [
       "1785499"
      ]
     },
     "execution_count": 53,
     "metadata": {},
     "output_type": "execute_result"
    }
   ],
   "source": [
    "len( data)"
   ]
  }
 ],
 "metadata": {
  "kernelspec": {
   "display_name": "Python [conda env:kulegeotingJan2023] *",
   "language": "python",
   "name": "conda-env-kulegeotingJan2023-py"
  },
  "language_info": {
   "codemirror_mode": {
    "name": "ipython",
    "version": 3
   },
   "file_extension": ".py",
   "mimetype": "text/x-python",
   "name": "python",
   "nbconvert_exporter": "python",
   "pygments_lexer": "ipython3",
   "version": "3.10.8"
  }
 },
 "nbformat": 4,
 "nbformat_minor": 5
}
