{
 "cells": [
  {
   "cell_type": "markdown",
   "id": "350b4a90",
   "metadata": {},
   "source": [
    "# Kopier  punkt-geometri fra systemobjekt til morobjekt + datter-hierarki"
   ]
  },
  {
   "cell_type": "markdown",
   "id": "b202c116",
   "metadata": {},
   "source": [
    "Ting vi må ta hensyn til: \n",
    "  * Vegobjekt med eksisterende egengeometri (uansett hvilken type geometri) skal ikke røres\n",
    "    * Vi traverserer relasjonstreet og dropper de casene der ett objekt i relasjonstreet har egengeometri\n",
    "  * Vi må endre alle datterobjekter, slik at de får samme punkt-geometri som rot-objektet i relasjonen\n",
    "  * Vi må håndtere at flere av våre kandidater inngår i samme relasjonstre, og må passe oss for at samme objekt ikke blir sendt inn to ganger (en gang fordi 97 variabelt skilt  [540008149](https://nvdbapiles-v3.atlas.vegvesen.no/vegobjekter/97/540008149/1) inngår i relasjonstreet til skiltpunktet [540008156](https://nvdbapiles-v3.atlas.vegvesen.no/vegobjekt.json?id=540008156&dybde=full), og én gang fordi variabelt skilt 540008149 har en selvstendig oppføring i datasettet\n",
    "    * => Valgt løsning: Ignorer alle vegobjekt som ikke er øverst i relasjonstreet. \n",
    "    \n",
    "    \n",
    "    \n",
    "## Testcase: \n",
    "\n",
    "Filtrert på vegsystemrefeanse [FV156 S1D1 m1000-1200](https://vegkart.atlas.vegvesen.no/#kartlag:geodata/@263125,6631475,11/hva:!(id~794)~/hvor:(vegsystemreferanse~!FV156S1D1M1000-1200)~) som gir 13 vegsystem-objekter, og som også omfatter at vi har denne casen med at et variabelt skilt som inngår to steder i datasettet, fordi både mor-objektet skiltpunkt og datterobjekt Variabelt skilt har hvert sitt systemobjekt. \n",
    "\n",
    "Merk at vi på vegsystemreferanse [Fv156 S1D1 m1160](https://vegkart.atlas.vegvesen.no/#kartlag:topo4/@265342,6632373,18/hva:!(id~794)~/hvor:(vegsystemreferanse~!FV156S1D1M1160-1162)~) har tre systemobjekter med skiltpunkt-variabelt skilt (dvs dobbeltregistrering av både skiltpunkt og variabelt skilt: \n",
    "\n",
    "Det ene skiltpunktet har et underliggende variabelt skilt som IKKE har systemobjekt\n",
    "\n",
    "  * Skiltpunkt 540008153 med egenskaper _Oppsettingsutstyr=Stolpe 60,3 mm (2\"\")_, _Eier=Fylkeskommune_, _Vedlikeholdsansvarlig=SVV_ og relasjonstre:\n",
    "    * 97 Variabelt skilt 540008154 med egenskaper _Variasjon=Ett motiv på/av_ og _Type=Mekanisk_\n",
    "      * Dette skiltet har ingen døttre, og heller ikke noe tilknyttet systemobjekt\n",
    "    * 794 Systemobjekt 540008155\n",
    "\n",
    "Det andre skiltpunktet har et variabelt skilt med systemobjekt\n",
    "\n",
    "  * Skiltpunkt 540008156 med egenskaper _Oppsettingsutstyr=Stolpe 60,3 mm (2\"\")_ og relasjonstre:\n",
    "    * 97 Variabelt skilt 540008149 med egenskaper _Fjernstyring=Nei_, _Type=Mekanisk med lameller_\n",
    "      * 761 Tilstand/skade punkt med egenskaper _Tilstand=OK_ \n",
    "        * 762 Tilstand/skade FU punkt med egenskaper _Etterslep=Nei_ \n",
    "        * 794 Systemobjekt 540008152 med _Beskrivelse_-egenskap \n",
    "   * 794 Systemobjekt 540008157 med _Beskrivelse_-egenskap\n",
    "   \n",
    "Dette er opplagt en dobbeltregistrering, men det er utafor dagens tema å rydde opp i dobbeltregistreringer"
   ]
  },
  {
   "cell_type": "markdown",
   "id": "60894650",
   "metadata": {},
   "source": [
    "### Metodikk \n",
    "\n",
    "  * Vi itererer over hvert enkelt systemobjekt og finner mor-objektet (med alle relasjoner)\n",
    "  * Datakontroll mor-objekt + systemobjekt: \n",
    "    * Er det pussig stor avstand mellom systemobjekt og mor-objektet så tyder det på en datafeil? => FORKAST+loggfør\n",
    "    * Vi ignorerer de casene der systemobjektets mor-objekt ikke er på toppen av sitt relasjonstre\n",
    "      * UNNTAK: Belysningspunkt, som kan være datter til en belysningsstrekning.\n",
    "      * Andre unntak fra denne regelen? Punkt som datter til linje må da være OK?  \n",
    "  * Vi traverserer relasjonstreet og gjør følgende: \n",
    "    * Sjekker om vi finner egengeometri for noen av objektene i relasjonstreet => FORKAST HELE RELASJONSTREET (loggføres)\n",
    "    * Sjekker at alle objekter i relasjonstreet står samme sted => HVIS IKKE: FORKAST HELE RELASJONSTREET (loggføres)\n",
    "      * Sjekk via geografisk avstand? \n",
    "      * Sjekk via posisjon på veglenkesekvens?\n",
    "    * Lagrer den informasjon vi trenger for å modifisere mor-objekt + alle objekter i relasjonstreet\n",
    "      * Objekt type ID\n",
    "      * Objekt ID\n",
    "      * Versjons ID\n",
    "      * Id til egenskapen \"Geometri, punkt\" (hentes fra datakatalogen) "
   ]
  },
  {
   "cell_type": "markdown",
   "id": "9317f056",
   "metadata": {},
   "source": [
    "# Skal vi ta alle objekttyper, eller dropper vi noen? \n",
    "\n",
    "Dette er de objekttypene der \"Geometri, punkt\" tilfører mest verdi. \n",
    "\n",
    "\n",
    "### Legger \"Geometri, punkt\" på disse\n",
    "\n",
    "  * 95 Skiltpunkt: Geometri, punkt                44260 stk\n",
    "  * 83 Kum: Geometri, punkt                       24948 stk\n",
    "  * 87 Belysningspunkt: Geometri, punkt           13316 stk\n",
    "  * 98 Referansestolpe: Geometri, punkt            4882 stk\n",
    "  * 27 Renovasjon: Geometri, punkt                  574 stk\n",
    "  * 342 Trafikkspeil: Geometri, punkt               129 stk\n",
    "  * 28 Utemøbler: Geometri, punkt                   116 stk\n",
    "  * 90 Signalpunkt: Geometri, punkt                 111 stk\n",
    "  * 181 Lysmast: Geometri, punkt                     99 stk\n",
    "  * 502 Skap, teknisk: Geometri, punkt               82 stk\n",
    "  * 623 Stativ for turistinfo: Geometri, punkt       63 stk\n",
    "  * 163 Kamera: Geometri, punkt                      23 stk\n",
    "  * 542 Støtpute: Geometri, punkt                    14 stk\n",
    "  * 165 Vindmåler: Geometri, punkt                    5 stk\n",
    "  * 210 Pumpestasjon: Geometri, punkt                 4 stk\n",
    "  * 481 Tennpunkt: Geometri, punkt                    4 stk\n",
    "  * 85 Pumpe: Geometri, punkt                         4 stk\n",
    "  * 461 Elektrisk anlegg: Geometri, punkt             2 stk\n",
    "  * 97 Variabelt skilt: Geometri, punkt               1 stk\n",
    "\n",
    "### Stikkrenner, hva gjør vi med dem?\n",
    "\n",
    "Stikkrenner er ekstremt nyttige å ha geometri på. Formodentlig er punktet representativt for enten innløp eller utløp - gir dette verdi? Skal vi anvende metodikken på de 39624 objektene? Merk at vi kun føyer til punkt-geometri kun dersom det ikke finnes noen egengeometri fra før (punkt, linje eller flate)\n",
    "\n",
    "  * 79 Stikkrenne/Kulvert: Geometri, punkt og Geometri, linje og Geometri, flate    39624 stk\n",
    "\n",
    "### Diskuterbar: \n",
    "\n",
    "Punkt-geometri kan tilføre verdi såfremt vi ikke har annen geometri (linje eller flate) \n",
    "\n",
    "  * 25 Leskur: Geometri, punkt og Geometri, flate og Utgår_Geometri, linje            632 stk\n",
    "  * 65 Bygning: Geometri, punkt og Utgår_Geometri, linje og Geometri, flate            21 stk\n",
    "  * 73 Sikringsbolt: Geometri, punkt og Geometri, linje og Geometri, flate              7 stk\n",
    "\n",
    "### Foreslår disse droppes\n",
    "\n",
    "Dette er objekter der nytteverdien ikke er så stor ved å føye til \"Geometri, punkt\"\n",
    "\n",
    "  * 103 Fartsdemper: Geometri, punkt                                                  419 stk\n",
    "  * 23 Vegbom: Geometri, punkt og Geometri, linje                                     166 stk\n",
    "\n",
    "\n",
    "### Disse har linjegeometri og punktet tilfører liten verdi\n",
    "\n",
    "  * 7 Gjerde: Geometri, linje                                                        1349 stk\n",
    "  * 20 Kantstolper/Refleks: Geometri, linje                                           870 stk\n",
    "  * 174 Gangfelt: Geometri, punkt og Geometri, linje og Geometri, flate               742 stk\n",
    "  * 3 Skjerm: Geometri, linje                                                         579 stk\n",
    "  * 519 Vegoppmerking, tverrgående: Geometri, punkt og Geometri, linje                107 stk\n",
    "  * 22 Ferist: Geometri, punkt og Geometri, linje                                      62 stk\n",
    "  * 24 Skiltportal: Geometri, punkt og Geometri, linje                                 22 stk\n",
    "\n",
    "### Og dette her er jo utdatert: \n",
    "\n",
    "  * 465 Utgår_Matepunkt: Utgår_Geometri, punkt                                         81 stk"
   ]
  },
  {
   "cell_type": "code",
   "execution_count": 137,
   "id": "84255d46",
   "metadata": {},
   "outputs": [],
   "source": [
    "import json\n",
    "import requests\n",
    "import re\n",
    "import warnings\n",
    "warnings.simplefilter('ignore', UserWarning )\n",
    "from datetime import datetime\n",
    "\n",
    "\n",
    "import pandas as pd\n",
    "import geopandas as gpd\n",
    "import numpy as np\n",
    "from shapely import wkt\n",
    "from shapely.geometry.point import Point\n",
    "import xmltodict\n",
    "from xml.parsers.expat import ExpatError\n",
    "\n",
    "import STARTHER\n",
    "import nvdbapiv3\n",
    "import skrivnvdb\n"
   ]
  },
  {
   "cell_type": "code",
   "execution_count": 2,
   "id": "3c101ce0",
   "metadata": {},
   "outputs": [],
   "source": [
    "sok = nvdbapiv3.nvdbFagdata( 794)\n",
    "sok.filter( {'vegsystemreferanse' : 'FV156 S1D1 m1000-1200' })\n",
    "mydf = pd.DataFrame( sok.to_records( relasjoner=True ))"
   ]
  },
  {
   "cell_type": "code",
   "execution_count": 3,
   "id": "3619feb7",
   "metadata": {},
   "outputs": [],
   "source": [
    "def hvilkeForeldreTyper( rel:dict): \n",
    "    returnval = '-99 Uten foreldre'\n",
    "    \n",
    "    if not pd.isnull( rel ) and 'foreldre' in rel: \n",
    "        temp = [ str( x['type']['id'] ) + ' ' + str( x['type']['navn'] )  for x in rel['foreldre'] ]\n",
    "        temp.sort()\n",
    "        returnval = ','.join( temp )\n",
    "        \n",
    "    return returnval \n",
    "\n",
    "def hvilkenForeldreId( rel:dict ): \n",
    "    returnval = ''\n",
    "\n",
    "    if not pd.isnull( rel ) and 'foreldre' in rel: \n",
    "        if len( rel['foreldre'] ) == 1: \n",
    "            if len( rel['foreldre'][0]['vegobjekter']) == 1: \n",
    "                returnval = str( rel['foreldre'][0]['vegobjekter'][0] )\n",
    "            else: \n",
    "                print(f\"Fant {len(rel['foreldre'][0]['vegobjekter'])} mor-objekter\" )\n",
    "                tmp = [str(x) for x in rel['foreldre'][0]['vegobjekter'] ]\n",
    "                returnval = ','.join( tmp )\n",
    "        else: \n",
    "            print( f\"Fant {rel['foreldre']} ulike typer mor-relasjon\" )\n",
    "                \n",
    "    return returnval "
   ]
  },
  {
   "cell_type": "markdown",
   "id": "13caae08",
   "metadata": {},
   "source": [
    "# Dekoder med regulære uttrykk"
   ]
  },
  {
   "cell_type": "code",
   "execution_count": 17,
   "id": "8e1951fa",
   "metadata": {},
   "outputs": [],
   "source": [
    "def dekodbeskrivelse2( beskr:str, returtype='wkt' ):\n",
    "    \n",
    "    nord    = grabtekst( beskr, 'nord'  )\n",
    "    oest    = grabtekst( beskr, 'oest' )\n",
    "    hoyde   = grabtekst( beskr, 'hoyde' )\n",
    "    mode    = grabtekst( beskr, 'mode' )    \n",
    "    cq      = grabtekst( beskr, 'cq' ) \n",
    "    avstand = grabtekst( beskr, 'avstand' )\n",
    "    \n",
    "    if isinstance( nord, str) and isinstance( oest, str): \n",
    "        if isinstance( hoyde, str): \n",
    "            wkt = f\"POINT Z( {oest} {nord} {hoyde} )\" \n",
    "        else: \n",
    "            wkt = f\"POINT Z( {oest} {nord} )\" \n",
    "    elif isinstance( nord, list) and isinstance( oest, list):\n",
    "\n",
    "        if isinstance( hoyde, list ): \n",
    "            koordstr = 'LINESTRING Z( '\n",
    "            for ix, junk in enumerate( oest):\n",
    "                if len( nord ) >= ix+1 and len( hoyde ) >= ix+1: \n",
    "                    koordstr += f\" {oest[ix]} {nord[ix]} {hoyde[ix]}\"\n",
    "                    \n",
    "                    if len( oest ) > ix+1: \n",
    "                        koordstr += ' , '\n",
    "                        \n",
    "        else: \n",
    "            koordstr = 'LINESTRING ( '\n",
    "            for ix, junk in enumerate( oest):\n",
    "                if len( nord ) >= ix+1 : \n",
    "                    koordstr += f\" {oest[ix]} {nord[ix]}\"\n",
    "                    \n",
    "                    if len( oest ) > ix+1: \n",
    "                        koordstr += ' , '\n",
    "            \n",
    "        if len( koordstr ) > len( 'LINESTRING Z(   ' ):\n",
    "            koordstr += ' )'\n",
    "            wkt = koordstr \n",
    "        else: \n",
    "            wkt = 'LINESTRING EMPTY'\n",
    "                \n",
    "    else: \n",
    "        wkt = 'POINT EMPTY'\n",
    "        \n",
    "    return { 'nord' : nord, 'oest' : oest, 'hoyde' : hoyde, 'mode' : mode, 'cq' : cq, 'avstand' : avstand, 'wkt' : wkt  }\n",
    "    \n",
    "\n",
    "def grabtekst( beskr:str, tagg:str ): \n",
    "    \n",
    "    tmp = re.findall( f\"<{tagg}>(.*?)</{tagg}>\", beskr  )\n",
    "    if len( tmp ) == 1: \n",
    "        return tmp[0]\n",
    "    elif len( tmp ) > 1: \n",
    "        # print( f\"Fant flere enn enn forekomst av {tagg} i {beskr}\")\n",
    "        return tmp\n",
    "    else: \n",
    "        return None "
   ]
  },
  {
   "cell_type": "code",
   "execution_count": 22,
   "id": "1d7586ad",
   "metadata": {},
   "outputs": [],
   "source": [
    "mydf['Beskrivelse'].fillna( '<vegreg_frapos/>', inplace=True)\n",
    "\n",
    "mydf['dekodet'] = mydf['Beskrivelse'].apply( dekodbeskrivelse2 )\n",
    "\n",
    "mydf['dekodet_geom'] = mydf['dekodet'].apply( lambda x : x['wkt'] )"
   ]
  },
  {
   "cell_type": "markdown",
   "id": "37a1134e",
   "metadata": {},
   "source": [
    "# Kvalitetssikring og filtrering"
   ]
  },
  {
   "cell_type": "code",
   "execution_count": 25,
   "id": "a243c182",
   "metadata": {},
   "outputs": [],
   "source": [
    "godkjente = mydf[ mydf['dekodet_geom'].str.contains( 'POINT')].copy()\n",
    "\n",
    "godkjente = godkjente[ ~godkjente['morObjektId'].str.contains(',')] # Ignorerer dem med flere enn ett morobjekt\n",
    "\n",
    "godkjente = godkjente[ godkjente['morObjektId'] != ''] # Ignorerer dem uten morobjekt\n",
    "godkjente = godkjente[ ~godkjente['morObjektId'].isnull()].copy() \n",
    "\n",
    "godkjente['morObjektId'] = godkjente['morObjektId'].astype(int)"
   ]
  },
  {
   "cell_type": "markdown",
   "id": "99596602",
   "metadata": {},
   "source": [
    "# Finner foreldrerelasjon til systemobjektet"
   ]
  },
  {
   "cell_type": "code",
   "execution_count": 26,
   "id": "0c5a0a21",
   "metadata": {},
   "outputs": [],
   "source": [
    "godkjente['morObjektId'] = godkjente['relasjoner'].apply( hvilkenForeldreId )"
   ]
  },
  {
   "cell_type": "code",
   "execution_count": 27,
   "id": "9a79c5e4",
   "metadata": {},
   "outputs": [],
   "source": [
    "godkjente['hvilkeForeldre'] = godkjente['relasjoner'].apply( hvilkeForeldreTyper )"
   ]
  },
  {
   "cell_type": "markdown",
   "id": "a8cdcff0",
   "metadata": {},
   "source": [
    "# Itererer over alle systemobjekt"
   ]
  },
  {
   "cell_type": "code",
   "execution_count": 104,
   "id": "20927fae",
   "metadata": {},
   "outputs": [],
   "source": [
    "def traverserRelasjoner( relasjonstre:dict, kontrollgeom:Point  ): \n",
    "    \"\"\"\n",
    "    Finner NVDB ID, versjons ID og egenskapstypeId for punktgeometri for alle medlemmer i relasjonstre\n",
    "    \n",
    "    Vil traversere \"barn\" - elementet i relasjonstreet rekursivt \n",
    "    \n",
    "    ARGUMENTS: \n",
    "        relasjonstre - dictionary, \"barn\" - elementet i et vegobjekts relasjonstre (fra NVDB api LEs)\n",
    "        \n",
    "        kontrollgeom - Shapely Point - objekt \n",
    "        \n",
    "        dakat - JSON-representasjon av datakatalogen \n",
    "    \n",
    "    RETURNS:\n",
    "        (suksess, vegobjekter) \n",
    "        \n",
    "            suksess: set (mengde) med feilmeldinger fra testene. En tom mengde betyr at alt er OK\n",
    "            endringsliste: Liste med tupler (vegobjektTypeId, vegobjektId, versjonsId)\n",
    "    \"\"\"\n",
    "    \n",
    "    endringsliste = []\n",
    "    suksess = set()\n",
    "    \n",
    "    \n",
    "    for enRelasjonstype in relasjonstre: \n",
    "        for etObjekt in enRelasjonstype['vegobjekter']: \n",
    "            \n",
    "            \n",
    "            nyttObj = nvdbapiv3.nvdbFagObjekt( etObjekt )\n",
    "            egengeom = nyttObj.egenskap( 'eometri')\n",
    "            if egengeom: \n",
    "                suksess.add( f\"Fant egengeometri for objekttype {mittobj['metadata']['type']['id']} objekttype {mittobj['metadata']['type']['navn']}\")\n",
    "            \n",
    "            # Flere tester nedover!\n",
    "            mittObjGeom = wkt.loads( etObjekt['geometri']['wkt'] )\n",
    "            avst =  kontrollgeom.distance(mittObjGeom) \n",
    "            if avst > 0.5: \n",
    "                if avst <= 1: \n",
    "                    avstand = '0-1m'\n",
    "                elif avst <= 5: \n",
    "                    avstand = '1-5m'\n",
    "                elif avst <= 10: \n",
    "                    avstand = '5-10m'\n",
    "                elif avst <= 50:\n",
    "                    avstand = '10-50m'\n",
    "                else: \n",
    "                    avstand = '>50m'\n",
    "                suksess.add( f'Senterlinjegeometri avviker {avstand}')\n",
    "                \n",
    "\n",
    "            if etObjekt['metadata']['type']['id'] not in  [794]: # 794 Systemobjekt, dette ignorerer vi\n",
    "                endringsliste.append( ( etObjekt['metadata']['type']['id'], etObjekt['id'], etObjekt['metadata']['versjon'] )  )  \n",
    "             \n",
    "            # Rekursiv \n",
    "            if 'relasjoner' in etObjekt and 'barn' in etObjekt['relasjoner']: \n",
    "                \n",
    "                (minSuksess, minEndringsliste) = traverserRelasjoner( etObjekt['relasjoner']['barn'] , kontrollgeom )\n",
    "                suksess.update( minSuksess )\n",
    "                endringsliste.extend( minEndringsliste )\n",
    "    \n",
    "    return (suksess, endringsliste)  \n",
    "\n",
    "\n",
    "    "
   ]
  },
  {
   "cell_type": "code",
   "execution_count": 129,
   "id": "d402e96d",
   "metadata": {},
   "outputs": [
    {
     "name": "stdout",
     "output_type": "stream",
     "text": [
      "10 relasjonstrær med 27 vegobjekt totalt\n",
      "  Forkastet pga foreldre 1\n",
      "  Forkastet pga geometriavvik 0\n"
     ]
    }
   ],
   "source": [
    "forb = nvdbapiv3.apiforbindelse()\n",
    "\n",
    "har_foreldre = []\n",
    "geometriavvik = []\n",
    "har_egengeometri = []\n",
    "endringsmanus = []\n",
    "antall_vegobjekt = 0\n",
    "\n",
    "for ix, row in godkjente.iterrows(): \n",
    "    aksepter = True \n",
    "    \n",
    "    mittobj = forb.les( '/vegobjekt', params={'id' : row['morObjektId'], 'dybde' : 'full'}  )\n",
    "    if mittobj.ok: \n",
    "        mittobj = mittobj.json()\n",
    " \n",
    "        # Sjekker at vi er på rot-nivå i relasjonstreet, eller at vi er på en objekttype der det er greit \n",
    "        if 'foreldre' in mittobj['relasjoner']: \n",
    "            OK_foreldre = [ 86   ] # 86 Belysningsstrekning\n",
    "            tmp = { x['type']['id'] : x['type']['navn']  for x in   mittobj['relasjoner']['foreldre'] } \n",
    "            if list( tmp.keys())[0] not in OK_foreldre:             \n",
    "                aksepter = False\n",
    "                har_foreldre.append( row.to_dict())\n",
    "\n",
    "        # Geometrikontroll\n",
    "        geomsted   = wkt.loads( row['geometri'])\n",
    "        geomNyEgen = wkt.loads( row['dekodet_geom'])\n",
    "\n",
    "        # Avstand mellom ny egengeometri og stedfestingsgeometri\n",
    "        if geomsted.distance( geomNyEgen ) > 10: \n",
    "            aksepter = False\n",
    "            geometriavvik.append( row.to_dict())\n",
    "\n",
    "        # Har vi geometri?\n",
    "        fancyObj = nvdbapiv3.nvdbFagObjekt( mittobj )\n",
    "        if fancyObj.egenskap( 'eometri'):\n",
    "            aksepter = False \n",
    "            har_egengeometri.append( mittobj )\n",
    "\n",
    "\n",
    "        if aksepter:\n",
    "            dette_treet = [ ( mittobj['metadata']['type']['id'], mittobj['id'], mittobj['metadata']['versjon']  ) ]\n",
    "            (suksess, vegobjekt) = traverserRelasjoner( mittobj['relasjoner']['barn'], geomsted)\n",
    "            dette_treet.extend( vegobjekt )\n",
    "            endringsmanus.append( { 'systemobjektId' : row['nvdbId'], \n",
    "                                 'hvilkeForeldre' : row['hvilkeForeldre'], \n",
    "                                 'vref'   : row['vref'], \n",
    "                                 'ny_egengeom' : row['dekodet_geom'],\n",
    "                                 'vegnettsgeom' : row['geometri'],\n",
    "                                 'endringssett' :  dette_treet } ) \n",
    "            antall_vegobjekt += len( dette_treet )\n",
    "\n",
    "    else: \n",
    "        print( f\"Fikk feilmelding på henting av objekt {row['morObjektId']}\" )\n",
    "        aksepter = False \n",
    "\n",
    "        \n",
    "print( f\"{len(endringsett)} relasjonstrær med {antall_vegobjekt} vegobjekt totalt\" )\n",
    "print( f\"  Forkastet pga foreldre {len(har_foreldre)}\") \n",
    "print( f\"  Forkastet pga geometriavvik {len(geometriavvik)}\")\n",
    "        "
   ]
  },
  {
   "cell_type": "code",
   "execution_count": 124,
   "id": "2850fa48",
   "metadata": {},
   "outputs": [
    {
     "data": {
      "text/plain": [
       "objekttype                                                         794\n",
       "nvdbId                                                       540008158\n",
       "versjon                                                              1\n",
       "startdato                                                   2014-08-14\n",
       "Beskrivelse          <vegreg_frapos><gnss_data><talker>GN</talker><...\n",
       "relasjoner           {'foreldre': [{'listeid': 221899, 'id': 201899...\n",
       "veglenkesekvensid                                               444218\n",
       "detaljnivå                                       Vegtrase og kjørebane\n",
       "typeVeg                                                   Enkel bilveg\n",
       "kommune                                                           3020\n",
       "fylke                                                               30\n",
       "vref                                                  FV156 S1D1 m1167\n",
       "veglenkeType                                                     HOVED\n",
       "vegkategori                                                          F\n",
       "fase                                                                 V\n",
       "vegnummer                                                          156\n",
       "relativPosisjon                                                0.99846\n",
       "adskilte_lop                                                       Nei\n",
       "trafikantgruppe                                                      K\n",
       "geometri                        POINT Z(265317.582 6632363.587 84.749)\n",
       "morObjektId                                                   83796208\n",
       "hvilkeForeldre                                      87 Belysningspunkt\n",
       "dekodet              {'nord': '6632365.581', 'oest': '265316.256', ...\n",
       "dekodet_geom                         POINT Z( 265316.256 6632365.581 )\n",
       "Name: 12, dtype: object"
      ]
     },
     "execution_count": 124,
     "metadata": {},
     "output_type": "execute_result"
    }
   ],
   "source": [
    "row"
   ]
  },
  {
   "cell_type": "code",
   "execution_count": 103,
   "id": "eceb1d24",
   "metadata": {},
   "outputs": [
    {
     "data": {
      "text/html": [
       "<div>\n",
       "<style scoped>\n",
       "    .dataframe tbody tr th:only-of-type {\n",
       "        vertical-align: middle;\n",
       "    }\n",
       "\n",
       "    .dataframe tbody tr th {\n",
       "        vertical-align: top;\n",
       "    }\n",
       "\n",
       "    .dataframe thead th {\n",
       "        text-align: right;\n",
       "    }\n",
       "</style>\n",
       "<table border=\"1\" class=\"dataframe\">\n",
       "  <thead>\n",
       "    <tr style=\"text-align: right;\">\n",
       "      <th></th>\n",
       "      <th>hvilkeForeldre</th>\n",
       "      <th>morObjektId</th>\n",
       "    </tr>\n",
       "  </thead>\n",
       "  <tbody>\n",
       "    <tr>\n",
       "      <th>0</th>\n",
       "      <td>87 Belysningspunkt</td>\n",
       "      <td>83796192</td>\n",
       "    </tr>\n",
       "    <tr>\n",
       "      <th>1</th>\n",
       "      <td>98 Referansestolpe</td>\n",
       "      <td>540008138</td>\n",
       "    </tr>\n",
       "    <tr>\n",
       "      <th>2</th>\n",
       "      <td>87 Belysningspunkt</td>\n",
       "      <td>83796196</td>\n",
       "    </tr>\n",
       "    <tr>\n",
       "      <th>3</th>\n",
       "      <td>87 Belysningspunkt</td>\n",
       "      <td>83796200</td>\n",
       "    </tr>\n",
       "    <tr>\n",
       "      <th>4</th>\n",
       "      <td>95 Skiltpunkt</td>\n",
       "      <td>84161094</td>\n",
       "    </tr>\n",
       "    <tr>\n",
       "      <th>5</th>\n",
       "      <td>87 Belysningspunkt</td>\n",
       "      <td>83796204</td>\n",
       "    </tr>\n",
       "    <tr>\n",
       "      <th>7</th>\n",
       "      <td>83 Kum</td>\n",
       "      <td>84161102</td>\n",
       "    </tr>\n",
       "    <tr>\n",
       "      <th>9</th>\n",
       "      <td>97 Variabelt skilt</td>\n",
       "      <td>540008149</td>\n",
       "    </tr>\n",
       "    <tr>\n",
       "      <th>10</th>\n",
       "      <td>95 Skiltpunkt</td>\n",
       "      <td>540008153</td>\n",
       "    </tr>\n",
       "    <tr>\n",
       "      <th>11</th>\n",
       "      <td>95 Skiltpunkt</td>\n",
       "      <td>540008156</td>\n",
       "    </tr>\n",
       "    <tr>\n",
       "      <th>12</th>\n",
       "      <td>87 Belysningspunkt</td>\n",
       "      <td>83796208</td>\n",
       "    </tr>\n",
       "  </tbody>\n",
       "</table>\n",
       "</div>"
      ],
      "text/plain": [
       "        hvilkeForeldre morObjektId\n",
       "0   87 Belysningspunkt    83796192\n",
       "1   98 Referansestolpe   540008138\n",
       "2   87 Belysningspunkt    83796196\n",
       "3   87 Belysningspunkt    83796200\n",
       "4        95 Skiltpunkt    84161094\n",
       "5   87 Belysningspunkt    83796204\n",
       "7               83 Kum    84161102\n",
       "9   97 Variabelt skilt   540008149\n",
       "10       95 Skiltpunkt   540008153\n",
       "11       95 Skiltpunkt   540008156\n",
       "12  87 Belysningspunkt    83796208"
      ]
     },
     "execution_count": 103,
     "metadata": {},
     "output_type": "execute_result"
    }
   ],
   "source": [
    "godkjente[[ 'hvilkeForeldre', 'morObjektId']]"
   ]
  },
  {
   "cell_type": "code",
   "execution_count": 101,
   "id": "2e8aa19e",
   "metadata": {},
   "outputs": [
    {
     "data": {
      "text/plain": [
       "Index(['objekttype', 'nvdbId', 'versjon', 'startdato', 'Beskrivelse',\n",
       "       'relasjoner', 'veglenkesekvensid', 'detaljnivå', 'typeVeg', 'kommune',\n",
       "       'fylke', 'vref', 'veglenkeType', 'vegkategori', 'fase', 'vegnummer',\n",
       "       'relativPosisjon', 'adskilte_lop', 'trafikantgruppe', 'geometri',\n",
       "       'morObjektId', 'hvilkeForeldre', 'dekodet', 'dekodet_geom'],\n",
       "      dtype='object')"
      ]
     },
     "execution_count": 101,
     "metadata": {},
     "output_type": "execute_result"
    }
   ],
   "source": [
    "godkjente.columns"
   ]
  },
  {
   "cell_type": "code",
   "execution_count": 125,
   "id": "4eca80ca",
   "metadata": {},
   "outputs": [
    {
     "data": {
      "text/plain": [
       "[{'systemobjektId': 540008137,\n",
       "  'hvilkeForeldre': '87 Belysningspunkt',\n",
       "  'vref': 'FV156 S1D1 m1000',\n",
       "  'ny_egengeom': 'POINT Z( 265445.287 6632470.400 )',\n",
       "  'endringssett': [(87, 83796192, 3), (88, 83796190, 3), (181, 83796191, 2)]},\n",
       " {'systemobjektId': 540008141,\n",
       "  'hvilkeForeldre': '98 Referansestolpe',\n",
       "  'vref': 'FV156 S1D1 m1000',\n",
       "  'ny_egengeom': 'POINT Z( 265445.287 6632470.400 )',\n",
       "  'endringssett': [(98, 540008138, 1),\n",
       "   (761, 540008139, 1),\n",
       "   (762, 540008140, 1)]},\n",
       " {'systemobjektId': 540008142,\n",
       "  'hvilkeForeldre': '87 Belysningspunkt',\n",
       "  'vref': 'FV156 S1D1 m1041',\n",
       "  'ny_egengeom': 'POINT Z( 265414.663 6632443.301 )',\n",
       "  'endringssett': [(87, 83796196, 3), (88, 83796194, 2), (181, 83796195, 2)]},\n",
       " {'systemobjektId': 540008143,\n",
       "  'hvilkeForeldre': '87 Belysningspunkt',\n",
       "  'vref': 'FV156 S1D1 m1083',\n",
       "  'ny_egengeom': 'POINT Z( 265382.987 6632415.896 )',\n",
       "  'endringssett': [(87, 83796200, 3), (88, 83796198, 2), (181, 83796199, 2)]},\n",
       " {'systemobjektId': 540008144,\n",
       "  'hvilkeForeldre': '95 Skiltpunkt',\n",
       "  'vref': 'FV156 S1D1 m1104',\n",
       "  'ny_egengeom': 'POINT Z( 265366.775 6632402.962 )',\n",
       "  'endringssett': [(95, 84161094, 3), (96, 84161093, 6)]},\n",
       " {'systemobjektId': 540008145,\n",
       "  'hvilkeForeldre': '87 Belysningspunkt',\n",
       "  'vref': 'FV156 S1D1 m1125',\n",
       "  'ny_egengeom': 'POINT Z( 265350.002 6632390.063 )',\n",
       "  'endringssett': [(87, 83796204, 3), (88, 83796202, 2), (181, 83796203, 2)]},\n",
       " {'systemobjektId': 540008147,\n",
       "  'hvilkeForeldre': '83 Kum',\n",
       "  'vref': 'FV156 S1D1 m1123',\n",
       "  'ny_egengeom': 'POINT Z( 265351.474 6632391.087 )',\n",
       "  'endringssett': [(83, 84161102, 3)]},\n",
       " {'systemobjektId': 540008155,\n",
       "  'hvilkeForeldre': '95 Skiltpunkt',\n",
       "  'vref': 'FV156 S1D1 m1160',\n",
       "  'ny_egengeom': 'POINT Z( 265321.761 6632369.514 )',\n",
       "  'endringssett': [(95, 540008153, 1), (97, 540008154, 1)]},\n",
       " {'systemobjektId': 540008157,\n",
       "  'hvilkeForeldre': '95 Skiltpunkt',\n",
       "  'vref': 'FV156 S1D1 m1160',\n",
       "  'ny_egengeom': 'POINT Z( 265321.761 6632369.514 )',\n",
       "  'endringssett': [(95, 540008156, 1),\n",
       "   (97, 540008149, 1),\n",
       "   (761, 540008150, 1),\n",
       "   (762, 540008151, 1)]},\n",
       " {'systemobjektId': 540008158,\n",
       "  'hvilkeForeldre': '87 Belysningspunkt',\n",
       "  'vref': 'FV156 S1D1 m1167',\n",
       "  'ny_egengeom': 'POINT Z( 265316.256 6632365.581 )',\n",
       "  'endringssett': [(87, 83796208, 3), (88, 83796206, 2), (181, 83796207, 2)]}]"
      ]
     },
     "execution_count": 125,
     "metadata": {},
     "output_type": "execute_result"
    }
   ],
   "source": [
    "endringsett"
   ]
  },
  {
   "cell_type": "markdown",
   "id": "aaf8dc35",
   "metadata": {},
   "source": [
    "# Henter datakatalogen, lager endringssett til SKRIV"
   ]
  },
  {
   "cell_type": "code",
   "execution_count": 133,
   "id": "79e480f8",
   "metadata": {},
   "outputs": [],
   "source": [
    "dakat1 = forb.les( '/vegobjekttyper', \n",
    "                      params={'inkluder' : 'egenskapstyper'} ).json()\n",
    "\n",
    "dakat = { }\n",
    "for objType in dakat1: \n",
    "    dakat[objType['id']] = {}\n",
    "    geometriegenskaper = [ x for x in objType['egenskapstyper'] if 'eometri' in x['navn']]\n",
    "    for geom in geometriegenskaper: \n",
    "        dakat[objType['id']][geom['navn']] = geom['id']\n",
    "            \n"
   ]
  },
  {
   "cell_type": "code",
   "execution_count": 134,
   "id": "5183e4d9",
   "metadata": {},
   "outputs": [],
   "source": [
    "alle_endringssett = []\n",
    "\n",
    "max_antall = 20\n",
    "count = 0 \n",
    "\n",
    "etEndringsset = skrivnvdb.endringssett_mal( )\n",
    "\n",
    "for relasjonstre in endringsmanus: \n",
    "    count += len( relasjonstre['endringssett'])\n",
    "    \n",
    "    for objekt in relasjonstre['endringssett']: \n",
    "        \n",
    "        if 'Geometri, punkt' in dakat[objekt[0]]:\n",
    "        \n",
    "            etEndringsset['delvisOppdater']['vegobjekter'].append({ \n",
    "                'gyldighetsperiode' : { 'startdato' : datetime.now().isoformat()[0:10] },\n",
    "                'typeId' : objekt[0],\n",
    "                'nvdbId' : objekt[1],\n",
    "                'egenskaper' : [ { 'typeId' : dakat[objekt[0]]['Geometri, punkt'],  }]\n",
    "            })\n",
    "    "
   ]
  },
  {
   "cell_type": "code",
   "execution_count": 136,
   "id": "a3cf74d0",
   "metadata": {},
   "outputs": [
    {
     "data": {
      "text/plain": [
       "{'datakatalogversjon': '2.29', 'delvisOppdater': {'vegobjekter': []}}"
      ]
     },
     "execution_count": 136,
     "metadata": {},
     "output_type": "execute_result"
    }
   ],
   "source": [
    "etEndringsset"
   ]
  },
  {
   "cell_type": "code",
   "execution_count": 142,
   "id": "060bc4b8",
   "metadata": {},
   "outputs": [
    {
     "data": {
      "text/plain": [
       "4787"
      ]
     },
     "execution_count": 142,
     "metadata": {},
     "output_type": "execute_result"
    }
   ],
   "source": [
    "objekt = relasjonstre['endringssett'][0]\n",
    "dakat[objekt[0]]['Geometri, punkt']"
   ]
  },
  {
   "cell_type": "code",
   "execution_count": 135,
   "id": "c1d112d4",
   "metadata": {},
   "outputs": [
    {
     "data": {
      "text/plain": [
       "{'systemobjektId': 540008158,\n",
       " 'hvilkeForeldre': '87 Belysningspunkt',\n",
       " 'vref': 'FV156 S1D1 m1167',\n",
       " 'ny_egengeom': 'POINT Z( 265316.256 6632365.581 )',\n",
       " 'vegnettsgeom': 'POINT Z(265317.582 6632363.587 84.749)',\n",
       " 'endringssett': [(87, 83796208, 3), (88, 83796206, 2), (181, 83796207, 2)]}"
      ]
     },
     "execution_count": 135,
     "metadata": {},
     "output_type": "execute_result"
    }
   ],
   "source": [
    "relasjonstre"
   ]
  },
  {
   "cell_type": "code",
   "execution_count": null,
   "id": "3f6a18c8",
   "metadata": {},
   "outputs": [],
   "source": [
    "kandidater = [ 95, 79, 83, 87, 98, 7, 174, 25, 27, 103, 20, 23, 3, 342, 28, 181, 90, 519, 623, 22, 163, 24, 65, 542, 73, 85, 210, 465, 97, 165, 502 ]\n",
    "med_punkt = []\n",
    "uten_punkt = []\n",
    "\n",
    "for kandidat in kandidater: \n",
    "    if 'Geometri, punkt' in dakat[kandidat]:\n",
    "        med\n",
    "    \n",
    "    "
   ]
  },
  {
   "cell_type": "code",
   "execution_count": 143,
   "id": "a0d8c05b",
   "metadata": {},
   "outputs": [
    {
     "data": {
      "text/plain": [
       "{'Geometri, punkt': 4794}"
      ]
     },
     "execution_count": 143,
     "metadata": {},
     "output_type": "execute_result"
    }
   ],
   "source": [
    "dakat[95]"
   ]
  }
 ],
 "metadata": {
  "kernelspec": {
   "display_name": "Python [conda env:kulegeotingAug2022] *",
   "language": "python",
   "name": "conda-env-kulegeotingAug2022-py"
  },
  "language_info": {
   "codemirror_mode": {
    "name": "ipython",
    "version": 3
   },
   "file_extension": ".py",
   "mimetype": "text/x-python",
   "name": "python",
   "nbconvert_exporter": "python",
   "pygments_lexer": "ipython3",
   "version": "3.10.5"
  }
 },
 "nbformat": 4,
 "nbformat_minor": 5
}
